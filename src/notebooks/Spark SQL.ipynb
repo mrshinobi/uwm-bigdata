{
 "cells": [
  {
   "cell_type": "markdown",
   "source": [
    "# Wprowadzenie do Spark SQL"
   ],
   "metadata": {
    "collapsed": false
   },
   "id": "6ca4a5c9cde60c23"
  },
  {
   "cell_type": "markdown",
   "source": [
    "## DataFrame w Spark SQL\n",
    "\n",
    "DataFrame to abstrakcyjna struktura danych w Spark SQL, która reprezentuje tabelę danych z kolumnami i wierszami.\n",
    "DataFrame jest rozszerzeniem RDD, które jest zbiorem obiektów RDD, w którym każdy obiekt jest strukturą danych zawierającą nazwane kolumny (schemat danych).\n",
    "\n",
    "DataFrame można tworzyć na różne sposoby:\n",
    "- z obiektu RDD\n",
    "- z pliku CSV, JSON, Parquet\n",
    "- z bazy danych\n",
    "- z innych źródeł danych\n",
    "- z innych DataFrame\n",
    "- z kolekcji danych\n",
    "- z danych strumieniowych\n",
    "- z danych zewnętrznych\n",
    "- z danych z API\n",
    " "
   ],
   "metadata": {
    "collapsed": false
   },
   "id": "d1d58e31074f7b3c"
  },
  {
   "cell_type": "markdown",
   "source": [
    "## Inicjowanie Sparka\n",
    "Pracę ze Sparkiem zaczynamy od zainicjowania sesji Sparka.\n",
    "Aby zainicjować Sparka, musimy zaimportować pakiet `findspark` i uruchomić metodę `init()`:"
   ],
   "metadata": {
    "collapsed": false
   },
   "id": "54ce891f88cfdc49"
  },
  {
   "cell_type": "code",
   "execution_count": 1,
   "id": "54fef2ac-64f8-422d-b03f-4945e41ade4c",
   "metadata": {
    "ExecuteTime": {
     "end_time": "2024-04-27T10:16:30.416461Z",
     "start_time": "2024-04-27T10:16:30.412386Z"
    }
   },
   "outputs": [],
   "source": [
    "import findspark\n",
    "findspark.init() "
   ]
  },
  {
   "cell_type": "markdown",
   "source": [
    "Następnie tworzymy obiekt sesji Sparka. Zwróć uwagę na ustawienie nazwy aplikacji Sparka: "
   ],
   "metadata": {
    "collapsed": false
   },
   "id": "4ea7c53d57759749"
  },
  {
   "cell_type": "code",
   "execution_count": 106,
   "id": "f4d34f07-0c73-4234-b8a8-d6743b714287",
   "metadata": {
    "ExecuteTime": {
     "end_time": "2024-04-27T11:30:41.234011Z",
     "start_time": "2024-04-27T11:30:41.231948Z"
    }
   },
   "outputs": [],
   "source": [
    "from pyspark.sql import SparkSession"
   ]
  },
  {
   "cell_type": "code",
   "execution_count": 107,
   "id": "d1549728-87b5-49b2-ba24-b5ac7dbda801",
   "metadata": {
    "ExecuteTime": {
     "end_time": "2024-04-27T11:30:41.926980Z",
     "start_time": "2024-04-27T11:30:41.921028Z"
    }
   },
   "outputs": [
    {
     "data": {
      "text/plain": "<pyspark.sql.session.SparkSession at 0x110cb50d0>",
      "text/html": "\n            <div>\n                <p><b>SparkSession - in-memory</b></p>\n                \n        <div>\n            <p><b>SparkContext</b></p>\n\n            <p><a href=\"http://192.168.0.94:4042\">Spark UI</a></p>\n\n            <dl>\n              <dt>Version</dt>\n                <dd><code>v3.5.0</code></dd>\n              <dt>Master</dt>\n                <dd><code>local[*]</code></dd>\n              <dt>AppName</dt>\n                <dd><code>DataScience</code></dd>\n            </dl>\n        </div>\n        \n            </div>\n        "
     },
     "execution_count": 107,
     "metadata": {},
     "output_type": "execute_result"
    }
   ],
   "source": [
    "# obiekt sesji zwykle ma nazwę \"spark\"\n",
    "spark = SparkSession.builder.appName(\"DataScience\").getOrCreate() \n",
    "spark"
   ]
  },
  {
   "cell_type": "markdown",
   "source": [
    "## Tworzenie obiektów DataFrame\n",
    "\n",
    "W pierwszym ćwiczeniu spróbujemy stworzyć obiekty DataFrame z kolekcji danych, obiektu RDD, pliku CSV oraz pliku Parquet.\n"
   ],
   "metadata": {
    "collapsed": false
   },
   "id": "85cff230dad0173d"
  },
  {
   "cell_type": "markdown",
   "source": [
    "### Utworzenie obiektu DataFrame z obiektu RDD"
   ],
   "metadata": {
    "collapsed": false
   },
   "id": "1e0248d5e7f589f1"
  },
  {
   "cell_type": "code",
   "outputs": [
    {
     "data": {
      "text/plain": "[(1,), (2,), (3,), (4,), (5,)]"
     },
     "execution_count": 110,
     "metadata": {},
     "output_type": "execute_result"
    }
   ],
   "source": [
    "rdd = spark.sparkContext.parallelize([1, 2, 3, 4, 5])\n",
    "# musimy zmienić obiekt RDD na obiekt RDD zawierający krotki, ponieważ obiekt RDD musi zawierać strukturę danych\n",
    "# nie może zawierać pojedynczych wartości\n",
    "rdd = rdd.map(lambda x: (x, ))\n",
    "rdd.collect()"
   ],
   "metadata": {
    "collapsed": false,
    "ExecuteTime": {
     "end_time": "2024-04-27T11:32:36.058991Z",
     "start_time": "2024-04-27T11:32:35.946868Z"
    }
   },
   "id": "a32dc8e575541466",
   "execution_count": 110
  },
  {
   "cell_type": "markdown",
   "source": [
    "Mając obiekt RDD, możemy zmienić go na obiekt DataFrame za pomocą metody `.toDF()`."
   ],
   "metadata": {
    "collapsed": false
   },
   "id": "a3e1fa31292d89b8"
  },
  {
   "cell_type": "code",
   "outputs": [
    {
     "data": {
      "text/plain": "DataFrame[_1: bigint]"
     },
     "execution_count": 111,
     "metadata": {},
     "output_type": "execute_result"
    }
   ],
   "source": [
    "df = rdd.toDF()\n",
    "df"
   ],
   "metadata": {
    "collapsed": false,
    "ExecuteTime": {
     "end_time": "2024-04-27T11:32:38.878610Z",
     "start_time": "2024-04-27T11:32:38.732694Z"
    }
   },
   "id": "34c4ec77ed66284",
   "execution_count": 111
  },
  {
   "cell_type": "code",
   "outputs": [
    {
     "name": "stdout",
     "output_type": "stream",
     "text": [
      "+---+\n",
      "| _1|\n",
      "+---+\n",
      "|  1|\n",
      "|  2|\n",
      "|  3|\n",
      "|  4|\n",
      "|  5|\n",
      "+---+\n"
     ]
    }
   ],
   "source": [
    "# funkcja show() wyświetla zawartość obiektu DataFrame\n",
    "df.show()"
   ],
   "metadata": {
    "collapsed": false,
    "ExecuteTime": {
     "end_time": "2024-04-27T11:32:42.183714Z",
     "start_time": "2024-04-27T11:32:41.915352Z"
    }
   },
   "id": "36a7729f060b2494",
   "execution_count": 112
  },
  {
   "cell_type": "code",
   "outputs": [
    {
     "name": "stdout",
     "output_type": "stream",
     "text": [
      "root\n",
      " |-- _1: long (nullable = true)\n"
     ]
    }
   ],
   "source": [
    "# funkcja printSchema() wyświetla schemat danych obiektu DataFrame\n",
    "df.printSchema()"
   ],
   "metadata": {
    "collapsed": false,
    "ExecuteTime": {
     "end_time": "2024-04-27T10:28:28.821917Z",
     "start_time": "2024-04-27T10:28:28.817816Z"
    }
   },
   "id": "13234aec641d112e",
   "execution_count": 27
  },
  {
   "cell_type": "code",
   "outputs": [
    {
     "name": "stdout",
     "output_type": "stream",
     "text": [
      "+-------+------------------+\n",
      "|summary|                _1|\n",
      "+-------+------------------+\n",
      "|  count|                 5|\n",
      "|   mean|               3.0|\n",
      "| stddev|1.5811388300841898|\n",
      "|    min|                 1|\n",
      "|    max|                 5|\n",
      "+-------+------------------+\n"
     ]
    }
   ],
   "source": [
    "# funkcja describe() wyświetla statystyki opisowe obiektu DataFrame\n",
    "df.describe().show()"
   ],
   "metadata": {
    "collapsed": false,
    "ExecuteTime": {
     "end_time": "2024-04-27T10:28:51.168708Z",
     "start_time": "2024-04-27T10:28:50.528226Z"
    }
   },
   "id": "7139f2d9b21252e1",
   "execution_count": 29
  },
  {
   "cell_type": "markdown",
   "source": [
    "Jak widać powyżej, obiekt DataFrame zawiera kolumnę z nazwą `_1`. Musimy zmienić nazwę kolumny na bardziej opisową."
   ],
   "metadata": {
    "collapsed": false
   },
   "id": "9fb5ab73047118cc"
  },
  {
   "cell_type": "code",
   "outputs": [
    {
     "name": "stdout",
     "output_type": "stream",
     "text": [
      "+-----+\n",
      "|value|\n",
      "+-----+\n",
      "|    1|\n",
      "|    2|\n",
      "|    3|\n",
      "|    4|\n",
      "|    5|\n",
      "+-----+\n"
     ]
    }
   ],
   "source": [
    "df = rdd.toDF([\"value\"])\n",
    "df.show()"
   ],
   "metadata": {
    "collapsed": false,
    "ExecuteTime": {
     "end_time": "2024-04-27T11:36:26.517156Z",
     "start_time": "2024-04-27T11:36:25.982945Z"
    }
   },
   "id": "d697d8708d334bc6",
   "execution_count": 113
  },
  {
   "cell_type": "markdown",
   "source": [
    "Typ danych w obiekcie DataFrame jest automatycznie ustawiany na podstawie danych wejściowych. Możemy sprawdzić typ danych za pomocą metody `dtypes`."
   ],
   "metadata": {
    "collapsed": false
   },
   "id": "31e23da125b9afb0"
  },
  {
   "cell_type": "code",
   "outputs": [
    {
     "data": {
      "text/plain": "[('value', 'bigint')]"
     },
     "execution_count": 114,
     "metadata": {},
     "output_type": "execute_result"
    }
   ],
   "source": [
    "df.dtypes"
   ],
   "metadata": {
    "collapsed": false,
    "ExecuteTime": {
     "end_time": "2024-04-27T11:36:30.728503Z",
     "start_time": "2024-04-27T11:36:30.725085Z"
    }
   },
   "id": "8bd2ba9741b20a89",
   "execution_count": 114
  },
  {
   "cell_type": "markdown",
   "source": [
    "Jak widać powyżej, typ danych w kolumnie `value` został ustawiony na `int`. Możemy zobaczyć schemat danych za pomocą metody `schema`."
   ],
   "metadata": {
    "collapsed": false
   },
   "id": "7e90cdac195f6d69"
  },
  {
   "cell_type": "code",
   "outputs": [
    {
     "data": {
      "text/plain": "StructType([StructField('value', LongType(), True)])"
     },
     "execution_count": 115,
     "metadata": {},
     "output_type": "execute_result"
    }
   ],
   "source": [
    "df.schema"
   ],
   "metadata": {
    "collapsed": false,
    "ExecuteTime": {
     "end_time": "2024-04-27T11:36:40.082662Z",
     "start_time": "2024-04-27T11:36:40.080250Z"
    }
   },
   "id": "be0618a210991405",
   "execution_count": 115
  },
  {
   "cell_type": "code",
   "outputs": [
    {
     "data": {
      "text/plain": "['value']"
     },
     "execution_count": 34,
     "metadata": {},
     "output_type": "execute_result"
    }
   ],
   "source": [
    "df.schema.names\n"
   ],
   "metadata": {
    "collapsed": false,
    "ExecuteTime": {
     "end_time": "2024-04-27T10:31:12.114956Z",
     "start_time": "2024-04-27T10:31:12.112423Z"
    }
   },
   "id": "1d597057583205a5",
   "execution_count": 34
  },
  {
   "cell_type": "code",
   "outputs": [
    {
     "data": {
      "text/plain": "[StructField('value', LongType(), True)]"
     },
     "execution_count": 35,
     "metadata": {},
     "output_type": "execute_result"
    }
   ],
   "source": [
    "df.schema.fields"
   ],
   "metadata": {
    "collapsed": false,
    "ExecuteTime": {
     "end_time": "2024-04-27T10:31:18.392747Z",
     "start_time": "2024-04-27T10:31:18.390566Z"
    }
   },
   "id": "960e0d5774bd0cf7",
   "execution_count": 35
  },
  {
   "cell_type": "markdown",
   "source": [
    "### Utworzenie obiektu DataFrame z kolekcji danych\n",
    "\n",
    "Użyjemy metody `createDataFrame()` do utworzenia obiektu DataFrame z kolekcji danych.\n",
    "Wartości w kolumnach obiektu DataFrame mogą być różnych typów danych."
   ],
   "metadata": {
    "collapsed": false
   },
   "id": "83710a1d94272f3f"
  },
  {
   "cell_type": "code",
   "outputs": [],
   "source": [
    "data = [(\"John\", 25), (\"Anna\", 23), (\"Mike\", 30), (\"Jane\", 22)]"
   ],
   "metadata": {
    "collapsed": false,
    "ExecuteTime": {
     "end_time": "2024-04-27T11:41:59.675289Z",
     "start_time": "2024-04-27T11:41:59.670365Z"
    }
   },
   "id": "a3822e206b8eafde",
   "execution_count": 116
  },
  {
   "cell_type": "code",
   "outputs": [
    {
     "data": {
      "text/plain": "DataFrame[name: string, age: bigint]"
     },
     "execution_count": 117,
     "metadata": {},
     "output_type": "execute_result"
    }
   ],
   "source": [
    "df = spark.createDataFrame(data, [\"name\", \"age\"])\n",
    "df"
   ],
   "metadata": {
    "collapsed": false,
    "ExecuteTime": {
     "end_time": "2024-04-27T11:42:00.387114Z",
     "start_time": "2024-04-27T11:42:00.326029Z"
    }
   },
   "id": "a3fe5ca5c8600107",
   "execution_count": 117
  },
  {
   "cell_type": "code",
   "outputs": [
    {
     "name": "stdout",
     "output_type": "stream",
     "text": [
      "+----+---+\n",
      "|name|age|\n",
      "+----+---+\n",
      "|John| 25|\n",
      "|Anna| 23|\n",
      "|Mike| 30|\n",
      "|Jane| 22|\n",
      "+----+---+\n"
     ]
    }
   ],
   "source": [
    "df.show()"
   ],
   "metadata": {
    "collapsed": false,
    "ExecuteTime": {
     "end_time": "2024-04-27T11:42:03.142581Z",
     "start_time": "2024-04-27T11:42:02.752010Z"
    }
   },
   "id": "716fd5e815efa35",
   "execution_count": 118
  },
  {
   "cell_type": "markdown",
   "source": [
    "### Utworzenie obiektu DataFrame z pliku CSV\n",
    "\n",
    "DataFrame można również utworzyć z pliku CSV. W tym celu używamy metody `read.csv()`.\n"
   ],
   "metadata": {
    "collapsed": false
   },
   "id": "3fb9eb8f19909332"
  },
  {
   "cell_type": "code",
   "outputs": [
    {
     "data": {
      "text/plain": "DataFrame[date: date, company: string, symbol: string, opening_price: double, closing_price: double, volume: int]"
     },
     "execution_count": 120,
     "metadata": {},
     "output_type": "execute_result"
    }
   ],
   "source": [
    "df = spark.read.csv(\"../../data/stock/stock.csv\", header=True, inferSchema=True)\n",
    "df"
   ],
   "metadata": {
    "collapsed": false,
    "ExecuteTime": {
     "end_time": "2024-04-27T11:44:55.579384Z",
     "start_time": "2024-04-27T11:44:55.424461Z"
    }
   },
   "id": "5c280fec2e6ac1a8",
   "execution_count": 120
  },
  {
   "cell_type": "code",
   "outputs": [
    {
     "name": "stdout",
     "output_type": "stream",
     "text": [
      "+----------+----------------+------+-------------+-----------------+------+\n",
      "|      date|         company|symbol|opening_price|    closing_price|volume|\n",
      "+----------+----------------+------+-------------+-----------------+------+\n",
      "|2024-04-01|    Example Corp|   EXC|       114.91|           111.05|  1780|\n",
      "|2024-04-02|      Another Co|   ANC|        74.97|             76.2|  3478|\n",
      "|2024-04-03|Tech Innovations|   TEI|        90.52|94.33999999999999|  3035|\n",
      "|2024-04-04|     Health Plus|   HPL|        69.35|69.61999999999999|  2756|\n",
      "|2024-04-05|   Energy United|   ENU|        29.78|            28.75|  2445|\n",
      "+----------+----------------+------+-------------+-----------------+------+\n"
     ]
    }
   ],
   "source": [
    "df.show(5)"
   ],
   "metadata": {
    "collapsed": false,
    "ExecuteTime": {
     "end_time": "2024-04-27T11:44:57.422211Z",
     "start_time": "2024-04-27T11:44:57.310577Z"
    }
   },
   "id": "65935bc17580b623",
   "execution_count": 121
  },
  {
   "cell_type": "markdown",
   "source": [
    "### Utworzenie obiektu DataFrame z pliku Parquet\n",
    "\n",
    "Parquet to format pliku binarnego używany w Sparku do przechowywania danych."
   ],
   "metadata": {
    "collapsed": false
   },
   "id": "8ef4db9d54b571c4"
  },
  {
   "cell_type": "code",
   "outputs": [
    {
     "data": {
      "text/plain": "DataFrame[category_id: int, category_department_id: int, category_name: string]"
     },
     "execution_count": 123,
     "metadata": {},
     "output_type": "execute_result"
    }
   ],
   "source": [
    "df = spark.read.parquet(\"../../data/sklep/categories\")\n",
    "df"
   ],
   "metadata": {
    "collapsed": false,
    "ExecuteTime": {
     "end_time": "2024-04-27T11:53:28.953036Z",
     "start_time": "2024-04-27T11:53:28.813433Z"
    }
   },
   "id": "9f379829414736dd",
   "execution_count": 123
  },
  {
   "cell_type": "markdown",
   "source": [
    "## Podstawowe akcje na obiektach DataFrame\n",
    "Akcja to operacja, która zwraca wartość do sterownika programu po przetworzeniu danych."
   ],
   "metadata": {
    "collapsed": false
   },
   "id": "de9329468668bc7d"
  },
  {
   "cell_type": "code",
   "outputs": [],
   "source": [
    "df = spark.read.parquet(\"../../data/sklep/categories\")"
   ],
   "metadata": {
    "collapsed": false,
    "ExecuteTime": {
     "end_time": "2024-04-27T10:38:06.511718Z",
     "start_time": "2024-04-27T10:38:06.463507Z"
    }
   },
   "id": "756a5ad8420149fb",
   "execution_count": 50
  },
  {
   "cell_type": "markdown",
   "source": [
    "### show()\n",
    "\n",
    "`show()` wyświetla zawartość obiektu DataFrame."
   ],
   "metadata": {
    "collapsed": false
   },
   "id": "8a70ce061ee892c5"
  },
  {
   "cell_type": "code",
   "outputs": [
    {
     "name": "stdout",
     "output_type": "stream",
     "text": [
      "+-----------+----------------------+-------------------+\n",
      "|category_id|category_department_id|      category_name|\n",
      "+-----------+----------------------+-------------------+\n",
      "|          1|                     2|           Football|\n",
      "|          2|                     2|             Soccer|\n",
      "|          3|                     2|Baseball & Softball|\n",
      "|          4|                     2|         Basketball|\n",
      "|          5|                     2|           Lacrosse|\n",
      "+-----------+----------------------+-------------------+\n"
     ]
    },
    {
     "name": "stderr",
     "output_type": "stream",
     "text": [
      "                                                                                \r"
     ]
    }
   ],
   "source": [
    "df.show(5)"
   ],
   "metadata": {
    "collapsed": false,
    "ExecuteTime": {
     "end_time": "2024-04-27T10:38:09.768452Z",
     "start_time": "2024-04-27T10:38:09.146597Z"
    }
   },
   "id": "f1b3b20344e6bdad",
   "execution_count": 51
  },
  {
   "cell_type": "code",
   "outputs": [
    {
     "name": "stdout",
     "output_type": "stream",
     "text": [
      "+-----------+----------------------+-------------------+\n",
      "|category_id|category_department_id|category_name      |\n",
      "+-----------+----------------------+-------------------+\n",
      "|1          |2                     |Football           |\n",
      "|2          |2                     |Soccer             |\n",
      "|3          |2                     |Baseball & Softball|\n",
      "|4          |2                     |Basketball         |\n",
      "|5          |2                     |Lacrosse           |\n",
      "+-----------+----------------------+-------------------+\n"
     ]
    }
   ],
   "source": [
    "df.show(5, truncate=False)  # truncate=False wyświetla całą zawartość kolumny"
   ],
   "metadata": {
    "collapsed": false,
    "ExecuteTime": {
     "end_time": "2024-04-27T10:38:13.187571Z",
     "start_time": "2024-04-27T10:38:13.141675Z"
    }
   },
   "id": "dca1685daab001aa",
   "execution_count": 52
  },
  {
   "cell_type": "markdown",
   "source": [
    "### printSchema()\n",
    "\n",
    "`printSchema()` wyświetla schemat danych obiektu DataFrame."
   ],
   "metadata": {
    "collapsed": false
   },
   "id": "b199d72c0ada036f"
  },
  {
   "cell_type": "code",
   "outputs": [
    {
     "name": "stdout",
     "output_type": "stream",
     "text": [
      "root\n",
      " |-- category_id: integer (nullable = true)\n",
      " |-- category_department_id: integer (nullable = true)\n",
      " |-- category_name: string (nullable = true)\n"
     ]
    }
   ],
   "source": [
    "df.printSchema()    # wyświetla schemat danych obiektu DataFrame"
   ],
   "metadata": {
    "collapsed": false,
    "ExecuteTime": {
     "end_time": "2024-04-27T10:38:44.338251Z",
     "start_time": "2024-04-27T10:38:44.335818Z"
    }
   },
   "id": "1ca049336ee10637",
   "execution_count": 54
  },
  {
   "cell_type": "markdown",
   "source": [
    "### describe()\n",
    "\n",
    "`describe()` wyświetla statystyki opisowe obiektu DataFrame."
   ],
   "metadata": {
    "collapsed": false
   },
   "id": "1468b16fb8b61b0e"
  },
  {
   "cell_type": "code",
   "outputs": [
    {
     "name": "stdout",
     "output_type": "stream",
     "text": [
      "+-------+------------------+----------------------+--------------+\n",
      "|summary|       category_id|category_department_id| category_name|\n",
      "+-------+------------------+----------------------+--------------+\n",
      "|  count|               116|                   116|           116|\n",
      "|   mean|              29.5|     5.172413793103448|          NULL|\n",
      "| stddev|16.813297015212072|     2.035664028267438|          NULL|\n",
      "|    min|                 1|                     2|   Accessories|\n",
      "|    max|                58|                     8|Yoga & Pilates|\n",
      "+-------+------------------+----------------------+--------------+\n"
     ]
    }
   ],
   "source": [
    "df.describe().show()"
   ],
   "metadata": {
    "collapsed": false,
    "ExecuteTime": {
     "end_time": "2024-04-27T10:39:01.651669Z",
     "start_time": "2024-04-27T10:39:01.357548Z"
    }
   },
   "id": "b0ca993a2794b64",
   "execution_count": 55
  },
  {
   "cell_type": "code",
   "outputs": [
    {
     "name": "stdout",
     "output_type": "stream",
     "text": [
      "+-------+------------------+\n",
      "|summary|       category_id|\n",
      "+-------+------------------+\n",
      "|  count|               116|\n",
      "|   mean|              29.5|\n",
      "| stddev|16.813297015212072|\n",
      "|    min|                 1|\n",
      "|    max|                58|\n",
      "+-------+------------------+\n"
     ]
    }
   ],
   "source": [
    "df.describe(\"category_id\").show()"
   ],
   "metadata": {
    "collapsed": false,
    "ExecuteTime": {
     "end_time": "2024-04-27T10:39:07.311364Z",
     "start_time": "2024-04-27T10:39:07.196321Z"
    }
   },
   "id": "c01e6d7538291a1b",
   "execution_count": 56
  },
  {
   "cell_type": "code",
   "outputs": [
    {
     "name": "stdout",
     "output_type": "stream",
     "text": [
      "+-------+------------------+--------------+\n",
      "|summary|       category_id| category_name|\n",
      "+-------+------------------+--------------+\n",
      "|  count|               116|           116|\n",
      "|   mean|              29.5|          NULL|\n",
      "| stddev|16.813297015212072|          NULL|\n",
      "|    min|                 1|   Accessories|\n",
      "|    max|                58|Yoga & Pilates|\n",
      "+-------+------------------+--------------+\n"
     ]
    }
   ],
   "source": [
    "df.describe(\"category_id\", \"category_name\").show()"
   ],
   "metadata": {
    "collapsed": false,
    "ExecuteTime": {
     "end_time": "2024-04-27T10:39:22.071370Z",
     "start_time": "2024-04-27T10:39:21.907882Z"
    }
   },
   "id": "bead6b42a6e7fb19",
   "execution_count": 57
  },
  {
   "cell_type": "markdown",
   "source": [
    "### count()\n",
    "\n",
    "`count()` zwraca liczbę wierszy obiektu DataFrame."
   ],
   "metadata": {
    "collapsed": false
   },
   "id": "ebee6d55a73d6466"
  },
  {
   "cell_type": "code",
   "outputs": [
    {
     "data": {
      "text/plain": "116"
     },
     "execution_count": 58,
     "metadata": {},
     "output_type": "execute_result"
    }
   ],
   "source": [
    "df.count()"
   ],
   "metadata": {
    "collapsed": false,
    "ExecuteTime": {
     "end_time": "2024-04-27T10:39:35.709604Z",
     "start_time": "2024-04-27T10:39:35.623020Z"
    }
   },
   "id": "33e877ce1056051f",
   "execution_count": 58
  },
  {
   "cell_type": "markdown",
   "source": [
    "### select()\n",
    "\n",
    "`select()` zwraca nowy obiekt DataFrame z wybranymi kolumnami."
   ],
   "metadata": {
    "collapsed": false
   },
   "id": "244fd918f4ebba5b"
  },
  {
   "cell_type": "code",
   "outputs": [
    {
     "name": "stdout",
     "output_type": "stream",
     "text": [
      "+-----------+----------------------+-------------------+\n",
      "|category_id|category_department_id|      category_name|\n",
      "+-----------+----------------------+-------------------+\n",
      "|          1|                     2|           Football|\n",
      "|          2|                     2|             Soccer|\n",
      "|          3|                     2|Baseball & Softball|\n",
      "|          4|                     2|         Basketball|\n",
      "|          5|                     2|           Lacrosse|\n",
      "|          6|                     2|   Tennis & Racquet|\n",
      "|          7|                     2|             Hockey|\n",
      "|          8|                     2|        More Sports|\n",
      "|          9|                     3|   Cardio Equipment|\n",
      "|         10|                     3|  Strength Training|\n",
      "|         11|                     3|Fitness Accessories|\n",
      "|         12|                     3|       Boxing & MMA|\n",
      "|         13|                     3|        Electronics|\n",
      "|         14|                     3|     Yoga & Pilates|\n",
      "|         15|                     3|  Training by Sport|\n",
      "|         16|                     3|    As Seen on  TV!|\n",
      "|         17|                     4|             Cleats|\n",
      "|         18|                     4|     Men's Footwear|\n",
      "|         19|                     4|   Women's Footwear|\n",
      "|         20|                     4|     Kids' Footwear|\n",
      "+-----------+----------------------+-------------------+\n"
     ]
    }
   ],
   "source": [
    "df.select(\"*\").show()"
   ],
   "metadata": {
    "collapsed": false,
    "ExecuteTime": {
     "end_time": "2024-04-27T11:56:44.290879Z",
     "start_time": "2024-04-27T11:56:44.193205Z"
    }
   },
   "id": "28aa025452f09e10",
   "execution_count": 124
  },
  {
   "cell_type": "code",
   "outputs": [
    {
     "name": "stdout",
     "output_type": "stream",
     "text": [
      "+-----------+-------------------+\n",
      "|category_id|      category_name|\n",
      "+-----------+-------------------+\n",
      "|          1|           Football|\n",
      "|          2|             Soccer|\n",
      "|          3|Baseball & Softball|\n",
      "|          4|         Basketball|\n",
      "|          5|           Lacrosse|\n",
      "+-----------+-------------------+\n"
     ]
    }
   ],
   "source": [
    "df.select(\"category_id\", \"category_name\").show(5)       # wybiera kolumny category_id i category"
   ],
   "metadata": {
    "collapsed": false,
    "ExecuteTime": {
     "end_time": "2024-04-27T10:40:51.473891Z",
     "start_time": "2024-04-27T10:40:51.434514Z"
    }
   },
   "id": "2f24e028f71a842",
   "execution_count": 66
  },
  {
   "cell_type": "code",
   "outputs": [
    {
     "name": "stdout",
     "output_type": "stream",
     "text": [
      "+-----------+-------------------+\n",
      "|category_id|      category_name|\n",
      "+-----------+-------------------+\n",
      "|          1|           Football|\n",
      "|          2|             Soccer|\n",
      "|          3|Baseball & Softball|\n",
      "|          4|         Basketball|\n",
      "|          5|           Lacrosse|\n",
      "+-----------+-------------------+\n"
     ]
    }
   ],
   "source": [
    "df.select(df[\"category_id\"], df[\"category_name\"]).show(5)       # można odwoływać się do kolumn za pomocą nawiasów kwadratowych"
   ],
   "metadata": {
    "collapsed": false,
    "ExecuteTime": {
     "end_time": "2024-04-27T10:40:43.771059Z",
     "start_time": "2024-04-27T10:40:43.709406Z"
    }
   },
   "id": "2fc9b16b3e816bd6",
   "execution_count": 65
  },
  {
   "cell_type": "code",
   "outputs": [
    {
     "name": "stdout",
     "output_type": "stream",
     "text": [
      "+-----------+-------------------+\n",
      "|category_id|      category_name|\n",
      "+-----------+-------------------+\n",
      "|          1|           Football|\n",
      "|          2|             Soccer|\n",
      "|          3|Baseball & Softball|\n",
      "|          4|         Basketball|\n",
      "|          5|           Lacrosse|\n",
      "+-----------+-------------------+\n"
     ]
    }
   ],
   "source": [
    "df.select(df.category_id, df.category_name).show(5)     # można odwoływać się do kolumn za pomocą kropki"
   ],
   "metadata": {
    "collapsed": false,
    "ExecuteTime": {
     "end_time": "2024-04-27T12:01:11.737777Z",
     "start_time": "2024-04-27T12:01:11.504908Z"
    }
   },
   "id": "db497c3f92990951",
   "execution_count": 125
  },
  {
   "cell_type": "markdown",
   "source": [
    "### filter()\n",
    "\n",
    "`filter()` zwraca nowy obiekt DataFrame z wierszami spełniającymi warunek.\n"
   ],
   "metadata": {
    "collapsed": false
   },
   "id": "10ab2ef3a4064722"
  },
  {
   "cell_type": "code",
   "outputs": [
    {
     "name": "stdout",
     "output_type": "stream",
     "text": [
      "+-----------+----------------------+-------------+\n",
      "|category_id|category_department_id|category_name|\n",
      "+-----------+----------------------+-------------+\n",
      "|          1|                     2|     Football|\n",
      "|          1|                     2|     Football|\n",
      "+-----------+----------------------+-------------+\n"
     ]
    }
   ],
   "source": [
    "df2 = df.filter(df[\"category_id\"] == 1)\n",
    "df2.show()"
   ],
   "metadata": {
    "collapsed": false,
    "ExecuteTime": {
     "end_time": "2024-04-27T12:50:59.420405Z",
     "start_time": "2024-04-27T12:50:59.232402Z"
    }
   },
   "id": "fa1b620ba141dc2d",
   "execution_count": 136
  },
  {
   "cell_type": "code",
   "outputs": [
    {
     "name": "stdout",
     "output_type": "stream",
     "text": [
      "+-----------+-------------+\n",
      "|category_id|category_name|\n",
      "+-----------+-------------+\n",
      "|          1|     Football|\n",
      "|          1|     Football|\n",
      "+-----------+-------------+\n"
     ]
    }
   ],
   "source": [
    "df.filter(df[\"category_id\"] == 1).select(\"category_id\", \"category_name\").show()"
   ],
   "metadata": {
    "collapsed": false,
    "ExecuteTime": {
     "end_time": "2024-04-27T10:41:38.588632Z",
     "start_time": "2024-04-27T10:41:38.515599Z"
    }
   },
   "id": "7a50bb3db6ffd0ff",
   "execution_count": 68
  },
  {
   "cell_type": "code",
   "outputs": [
    {
     "name": "stdout",
     "output_type": "stream",
     "text": [
      "+-----------+----------------------+-------------+\n",
      "|category_id|category_department_id|category_name|\n",
      "+-----------+----------------------+-------------+\n",
      "|          1|                     2|     Football|\n",
      "|          1|                     2|     Football|\n",
      "+-----------+----------------------+-------------+\n"
     ]
    }
   ],
   "source": [
    "df.filter(df[\"category_id\"] == 1).filter(df[\"category_name\"] == \"Football\").show()"
   ],
   "metadata": {
    "collapsed": false,
    "ExecuteTime": {
     "end_time": "2024-04-27T12:52:17.375537Z",
     "start_time": "2024-04-27T12:52:17.216034Z"
    }
   },
   "id": "fee1001df4f90c42",
   "execution_count": 137
  },
  {
   "cell_type": "markdown",
   "source": [
    "### distinct()\n",
    "\n",
    "`distinct()` zwraca obiekt DataFrame bez duplikatów.\n"
   ],
   "metadata": {
    "collapsed": false
   },
   "id": "7984e74e16924080"
  },
  {
   "cell_type": "code",
   "outputs": [
    {
     "name": "stdout",
     "output_type": "stream",
     "text": [
      "+----------------------+\n",
      "|category_department_id|\n",
      "+----------------------+\n",
      "|                     6|\n",
      "|                     3|\n",
      "|                     5|\n",
      "|                     4|\n",
      "|                     8|\n",
      "|                     7|\n",
      "|                     2|\n",
      "+----------------------+\n"
     ]
    }
   ],
   "source": [
    "df.select(\"category_department_id\").distinct().show()"
   ],
   "metadata": {
    "collapsed": false,
    "ExecuteTime": {
     "end_time": "2024-04-27T12:53:09.164257Z",
     "start_time": "2024-04-27T12:53:09.095938Z"
    }
   },
   "id": "230942e94ffb166f",
   "execution_count": 142
  },
  {
   "cell_type": "markdown",
   "source": [
    "### orderBy()\n",
    "\n",
    "`orderBy()` sortuje wiersze obiektu DataFrame według kolumny."
   ],
   "metadata": {
    "collapsed": false
   },
   "id": "a8f2dfd2834ac3cb"
  },
  {
   "cell_type": "code",
   "outputs": [
    {
     "name": "stdout",
     "output_type": "stream",
     "text": [
      "+-----------+----------------------+-------------------+\n",
      "|category_id|category_department_id|      category_name|\n",
      "+-----------+----------------------+-------------------+\n",
      "|          1|                     2|           Football|\n",
      "|          1|                     2|           Football|\n",
      "|          2|                     2|             Soccer|\n",
      "|          2|                     2|             Soccer|\n",
      "|          3|                     2|Baseball & Softball|\n",
      "+-----------+----------------------+-------------------+\n"
     ]
    }
   ],
   "source": [
    "df.orderBy(\"category_id\").show(5)"
   ],
   "metadata": {
    "collapsed": false,
    "ExecuteTime": {
     "end_time": "2024-04-27T10:42:48.009904Z",
     "start_time": "2024-04-27T10:42:47.924703Z"
    }
   },
   "id": "ed570b398954cec7",
   "execution_count": 73
  },
  {
   "cell_type": "code",
   "outputs": [
    {
     "name": "stdout",
     "output_type": "stream",
     "text": [
      "+-----------+----------------------+--------------+\n",
      "|category_id|category_department_id| category_name|\n",
      "+-----------+----------------------+--------------+\n",
      "|         58|                     8|   NFL Players|\n",
      "|         58|                     8|   NFL Players|\n",
      "|         57|                     8|   MLB Players|\n",
      "|         57|                     8|   MLB Players|\n",
      "|         56|                     8|World Cup Shop|\n",
      "+-----------+----------------------+--------------+\n"
     ]
    }
   ],
   "source": [
    "df.orderBy(df[\"category_id\"].desc()).show(5)        # sortowanie malejące według kolumny category_id"
   ],
   "metadata": {
    "collapsed": false,
    "ExecuteTime": {
     "end_time": "2024-04-27T10:42:58.790217Z",
     "start_time": "2024-04-27T10:42:58.636543Z"
    }
   },
   "id": "bf2111048ba6dc0b",
   "execution_count": 74
  },
  {
   "cell_type": "code",
   "outputs": [
    {
     "name": "stdout",
     "output_type": "stream",
     "text": [
      "+-----------+----------------------+-------------------+\n",
      "|category_id|category_department_id|      category_name|\n",
      "+-----------+----------------------+-------------------+\n",
      "|          1|                     2|           Football|\n",
      "|          1|                     2|           Football|\n",
      "|          2|                     2|             Soccer|\n",
      "|          2|                     2|             Soccer|\n",
      "|          3|                     2|Baseball & Softball|\n",
      "+-----------+----------------------+-------------------+\n"
     ]
    }
   ],
   "source": [
    "df.orderBy(df[\"category_id\"].asc(), df[\"category_name\"].desc()).show(5)  # sortowanie rosnące według kolumny category_id oraz malejące według kolumny category_name"
   ],
   "metadata": {
    "collapsed": false,
    "ExecuteTime": {
     "end_time": "2024-04-27T10:43:08.752964Z",
     "start_time": "2024-04-27T10:43:08.699312Z"
    }
   },
   "id": "1db4053ae8c43c3d",
   "execution_count": 75
  },
  {
   "cell_type": "markdown",
   "source": [
    "### groupBy()\n",
    "\n",
    "`groupBy()` grupuje wiersze obiektu DataFrame według kolumny."
   ],
   "metadata": {
    "collapsed": false
   },
   "id": "a0876b12ce721628"
  },
  {
   "cell_type": "code",
   "outputs": [
    {
     "name": "stdout",
     "output_type": "stream",
     "text": [
      "+-----------+-----+\n",
      "|category_id|count|\n",
      "+-----------+-----+\n",
      "|         31|    2|\n",
      "|         53|    2|\n",
      "|         34|    2|\n",
      "|         28|    2|\n",
      "|         26|    2|\n",
      "+-----------+-----+\n"
     ]
    }
   ],
   "source": [
    "df.groupBy(\"category_id\").count().show(5)    # grupuje wiersze według kolumny category_id i zlicza liczbę wierszy w każdej grupie"
   ],
   "metadata": {
    "collapsed": false,
    "ExecuteTime": {
     "end_time": "2024-04-27T10:43:49.740142Z",
     "start_time": "2024-04-27T10:43:49.648295Z"
    }
   },
   "id": "8c4d016a83dd9a7a",
   "execution_count": 77
  },
  {
   "cell_type": "code",
   "outputs": [
    {
     "name": "stdout",
     "output_type": "stream",
     "text": [
      "+-----------+-----+\n",
      "|category_id|count|\n",
      "+-----------+-----+\n",
      "|         31|    2|\n",
      "|         53|    2|\n",
      "|         34|    2|\n",
      "|         28|    2|\n",
      "|         26|    2|\n",
      "+-----------+-----+\n"
     ]
    }
   ],
   "source": [
    "df.groupBy(\"category_id\").count().show(5)"
   ],
   "metadata": {
    "collapsed": false,
    "ExecuteTime": {
     "end_time": "2024-04-27T12:56:34.161423Z",
     "start_time": "2024-04-27T12:56:34.049530Z"
    }
   },
   "id": "7d905e7e4fd4881f",
   "execution_count": 148
  },
  {
   "cell_type": "code",
   "outputs": [
    {
     "name": "stdout",
     "output_type": "stream",
     "text": [
      "+-----------+--------------------+\n",
      "|category_id|count(category_name)|\n",
      "+-----------+--------------------+\n",
      "|         31|                   2|\n",
      "|         53|                   2|\n",
      "|         34|                   2|\n",
      "|         28|                   2|\n",
      "|         26|                   2|\n",
      "+-----------+--------------------+\n"
     ]
    }
   ],
   "source": [
    "df.groupBy(\"category_id\").agg({\"category_name\": \"count\"}).show(5)    # grupuje wiersze według kolumny category_id i zlicza liczbę wierszy w każdej grupie"
   ],
   "metadata": {
    "collapsed": false,
    "ExecuteTime": {
     "end_time": "2024-04-27T10:43:58.765061Z",
     "start_time": "2024-04-27T10:43:58.658797Z"
    }
   },
   "id": "53022d2b960d307f",
   "execution_count": 78
  },
  {
   "cell_type": "code",
   "outputs": [
    {
     "name": "stdout",
     "output_type": "stream",
     "text": [
      "+-----------+--------------------+----------------+\n",
      "|category_id|count(category_name)|sum(category_id)|\n",
      "+-----------+--------------------+----------------+\n",
      "|         31|                   2|              62|\n",
      "|         53|                   2|             106|\n",
      "|         34|                   2|              68|\n",
      "|         28|                   2|              56|\n",
      "|         26|                   2|              52|\n",
      "+-----------+--------------------+----------------+\n"
     ]
    }
   ],
   "source": [
    "df.groupBy(\"category_id\").agg({\"category_name\": \"count\", \"category_id\": \"sum\"}).show(5)    # grupuje wiersze według kolumny category_id i zlicza liczbę wierszy w każdej grupie"
   ],
   "metadata": {
    "collapsed": false,
    "ExecuteTime": {
     "end_time": "2024-04-27T10:44:12.035854Z",
     "start_time": "2024-04-27T10:44:11.911900Z"
    }
   },
   "id": "cf8ac427a0491020",
   "execution_count": 79
  },
  {
   "cell_type": "code",
   "outputs": [
    {
     "name": "stdout",
     "output_type": "stream",
     "text": [
      "+-----------+--------------------+----------------+\n",
      "|category_id|count(category_name)|sum(category_id)|\n",
      "+-----------+--------------------+----------------+\n",
      "|          1|                   2|               2|\n",
      "|          2|                   2|               4|\n",
      "|          3|                   2|               6|\n",
      "|          4|                   2|               8|\n",
      "|          5|                   2|              10|\n",
      "+-----------+--------------------+----------------+\n"
     ]
    }
   ],
   "source": [
    "df.groupBy(\"category_id\").agg({\"category_name\": \"count\", \"category_id\": \"sum\"}).orderBy(\"category_id\").show(5)    # grupuje wiersze według kolumny category_id i zlicza liczbę wierszy w każdej grupie"
   ],
   "metadata": {
    "collapsed": false,
    "ExecuteTime": {
     "end_time": "2024-04-27T10:44:18.703988Z",
     "start_time": "2024-04-27T10:44:18.543127Z"
    }
   },
   "id": "98cb377358f618d7",
   "execution_count": 80
  },
  {
   "cell_type": "markdown",
   "source": [
    "### join()\n",
    "\n",
    "`join()` łączy dwa obiekty DataFrame na podstawie kolumny.\n",
    "\n",
    "Wykorzystamy dwa obiekty DataFrame: `categories` oraz `products`.\n"
   ],
   "metadata": {
    "collapsed": false
   },
   "id": "3855398afce87a7"
  },
  {
   "cell_type": "code",
   "outputs": [],
   "source": [
    "categories = spark.read.parquet(\"../../data/sklep/categories\")\n",
    "products = spark.read.parquet(\"../../data/sklep/products\")\n"
   ],
   "metadata": {
    "collapsed": false,
    "ExecuteTime": {
     "end_time": "2024-04-27T10:44:54.151026Z",
     "start_time": "2024-04-27T10:44:54.014612Z"
    }
   },
   "id": "a0d26202c10eb730",
   "execution_count": 81
  },
  {
   "cell_type": "code",
   "outputs": [
    {
     "name": "stdout",
     "output_type": "stream",
     "text": [
      "+-----------+----------------------+-------------------+\n",
      "|category_id|category_department_id|      category_name|\n",
      "+-----------+----------------------+-------------------+\n",
      "|          1|                     2|           Football|\n",
      "|          2|                     2|             Soccer|\n",
      "|          3|                     2|Baseball & Softball|\n",
      "|          4|                     2|         Basketball|\n",
      "|          5|                     2|           Lacrosse|\n",
      "+-----------+----------------------+-------------------+\n"
     ]
    }
   ],
   "source": [
    "categories.show(5)"
   ],
   "metadata": {
    "collapsed": false,
    "ExecuteTime": {
     "end_time": "2024-04-27T10:45:01.653171Z",
     "start_time": "2024-04-27T10:45:01.614135Z"
    }
   },
   "id": "bafcfd812597ac0e",
   "execution_count": 82
  },
  {
   "cell_type": "code",
   "outputs": [
    {
     "name": "stdout",
     "output_type": "stream",
     "text": [
      "+----------+-------------------+--------------------+-------------------+-------------+--------------------+\n",
      "|product_id|product_category_id|        product_name|product_description|product_price|       product_image|\n",
      "+----------+-------------------+--------------------+-------------------+-------------+--------------------+\n",
      "|         1|                  2|Quest Q64 10 FT. ...|                   |        59.98|http://images.acm...|\n",
      "|         2|                  2|Under Armour Men'...|                   |       129.99|http://images.acm...|\n",
      "|         3|                  2|Under Armour Men'...|                   |        89.99|http://images.acm...|\n",
      "|         4|                  2|Under Armour Men'...|                   |        89.99|http://images.acm...|\n",
      "|         5|                  2|Riddell Youth Rev...|                   |       199.99|http://images.acm...|\n",
      "+----------+-------------------+--------------------+-------------------+-------------+--------------------+\n"
     ]
    }
   ],
   "source": [
    "products.show(5)"
   ],
   "metadata": {
    "collapsed": false,
    "ExecuteTime": {
     "end_time": "2024-04-27T10:45:04.566081Z",
     "start_time": "2024-04-27T10:45:04.522046Z"
    }
   },
   "id": "9a920d3e4c763124",
   "execution_count": 83
  },
  {
   "cell_type": "code",
   "outputs": [
    {
     "name": "stdout",
     "output_type": "stream",
     "text": [
      "+-----------+----------------------+-------------+----------+-------------------+--------------------+-------------------+-------------+--------------------+\n",
      "|category_id|category_department_id|category_name|product_id|product_category_id|        product_name|product_description|product_price|       product_image|\n",
      "+-----------+----------------------+-------------+----------+-------------------+--------------------+-------------------+-------------+--------------------+\n",
      "|          2|                     2|       Soccer|         1|                  2|Quest Q64 10 FT. ...|                   |        59.98|http://images.acm...|\n",
      "|          2|                     2|       Soccer|         1|                  2|Quest Q64 10 FT. ...|                   |        59.98|http://images.acm...|\n",
      "|          2|                     2|       Soccer|         2|                  2|Under Armour Men'...|                   |       129.99|http://images.acm...|\n",
      "|          2|                     2|       Soccer|         2|                  2|Under Armour Men'...|                   |       129.99|http://images.acm...|\n",
      "|          2|                     2|       Soccer|         3|                  2|Under Armour Men'...|                   |        89.99|http://images.acm...|\n",
      "+-----------+----------------------+-------------+----------+-------------------+--------------------+-------------------+-------------+--------------------+\n"
     ]
    }
   ],
   "source": [
    "categories.join(products, categories[\"category_id\"] == products[\"product_category_id\"]).show(5)"
   ],
   "metadata": {
    "collapsed": false,
    "ExecuteTime": {
     "end_time": "2024-04-27T10:45:24.956676Z",
     "start_time": "2024-04-27T10:45:24.737036Z"
    }
   },
   "id": "ac14603aa3e9ee3d",
   "execution_count": 85
  },
  {
   "cell_type": "markdown",
   "source": [
    "Wyróżniamy kilka typów łączenia obiektów DataFrame:\n",
    "\n",
    "- inner join - zwraca wiersze, które mają pasujące wartości w obu obiektach DataFrame\n",
    "- outer join - zwraca wiersze, które mają pasujące wartości w jednym z obiektów DataFrame\n",
    "- left join - zwraca wiersze, które mają pasujące wartości w lewym obiekcie DataFrame\n",
    "- right join - zwraca wiersze, które mają pasujące wartości w prawym obiekcie DataFrame\n",
    "- left semi join - zwraca wiersze z lewego obiektu DataFrame, które mają pasujące wartości w prawym obiekcie DataFrame\n",
    "- left anti join - zwraca wiersze z lewego obiektu DataFrame, które nie mają pasujących wartości w prawym obiekcie DataFrame\n",
    "- cross join - zwraca iloczyn kartezjański obu obiektów DataFrame\n",
    "- natural join - zwraca wiersze, które mają pasujące wartości w obu obiektach DataFrame, ale bez powtarzających się kolumn\n",
    "\n",
    " \n",
    "join_types = [\"inner\", \"cross\", \"outer\", \"full\", \"left_outer\", \"right_outer\"]\n"
   ],
   "metadata": {
    "collapsed": false
   },
   "id": "96474b27c9858fa4"
  },
  {
   "cell_type": "code",
   "outputs": [
    {
     "name": "stdout",
     "output_type": "stream",
     "text": [
      "+-----------+----------------------+-------------+----------+-------------------+--------------------+-------------------+-------------+--------------------+\n",
      "|category_id|category_department_id|category_name|product_id|product_category_id|        product_name|product_description|product_price|       product_image|\n",
      "+-----------+----------------------+-------------+----------+-------------------+--------------------+-------------------+-------------+--------------------+\n",
      "|          2|                     2|       Soccer|         1|                  2|Quest Q64 10 FT. ...|                   |        59.98|http://images.acm...|\n",
      "|          2|                     2|       Soccer|         1|                  2|Quest Q64 10 FT. ...|                   |        59.98|http://images.acm...|\n",
      "|          2|                     2|       Soccer|         2|                  2|Under Armour Men'...|                   |       129.99|http://images.acm...|\n",
      "|          2|                     2|       Soccer|         2|                  2|Under Armour Men'...|                   |       129.99|http://images.acm...|\n",
      "|          2|                     2|       Soccer|         3|                  2|Under Armour Men'...|                   |        89.99|http://images.acm...|\n",
      "+-----------+----------------------+-------------+----------+-------------------+--------------------+-------------------+-------------+--------------------+\n"
     ]
    }
   ],
   "source": [
    "categories.join(products, categories[\"category_id\"] == products[\"product_category_id\"], \"inner\").show(5)"
   ],
   "metadata": {
    "collapsed": false,
    "ExecuteTime": {
     "end_time": "2024-04-27T10:46:36.955696Z",
     "start_time": "2024-04-27T10:46:36.856221Z"
    }
   },
   "id": "ef89fb42f60e5cae",
   "execution_count": 86
  },
  {
   "cell_type": "code",
   "outputs": [
    {
     "name": "stdout",
     "output_type": "stream",
     "text": [
      "+-----------+----------------------+-------------+----------+-------------------+--------------------+-------------------+-------------+--------------------+\n",
      "|category_id|category_department_id|category_name|product_id|product_category_id|        product_name|product_description|product_price|       product_image|\n",
      "+-----------+----------------------+-------------+----------+-------------------+--------------------+-------------------+-------------+--------------------+\n",
      "|          1|                     2|     Football|      NULL|               NULL|                NULL|               NULL|         NULL|                NULL|\n",
      "|          1|                     2|     Football|      NULL|               NULL|                NULL|               NULL|         NULL|                NULL|\n",
      "|          2|                     2|       Soccer|         1|                  2|Quest Q64 10 FT. ...|                   |        59.98|http://images.acm...|\n",
      "|          2|                     2|       Soccer|         2|                  2|Under Armour Men'...|                   |       129.99|http://images.acm...|\n",
      "|          2|                     2|       Soccer|         3|                  2|Under Armour Men'...|                   |        89.99|http://images.acm...|\n",
      "+-----------+----------------------+-------------+----------+-------------------+--------------------+-------------------+-------------+--------------------+\n"
     ]
    }
   ],
   "source": [
    "categories.join(products, categories[\"category_id\"] == products[\"product_category_id\"], \"outer\").show(5)"
   ],
   "metadata": {
    "collapsed": false,
    "ExecuteTime": {
     "end_time": "2024-04-27T10:47:29.441324Z",
     "start_time": "2024-04-27T10:47:29.208962Z"
    }
   },
   "id": "741c1cc056971e96",
   "execution_count": 87
  },
  {
   "cell_type": "markdown",
   "source": [
    "### union()\n",
    "\n",
    "`union()` łączy dwa obiekty DataFrame w jeden obiekt DataFrame.\n"
   ],
   "metadata": {
    "collapsed": false
   },
   "id": "bfce979c56226182"
  },
  {
   "cell_type": "code",
   "outputs": [
    {
     "name": "stdout",
     "output_type": "stream",
     "text": [
      "+---+----+\n",
      "| id|name|\n",
      "+---+----+\n",
      "|  1|John|\n",
      "|  2|Anna|\n",
      "+---+----+\n",
      "+---+----+\n",
      "| id|name|\n",
      "+---+----+\n",
      "|  3|Mike|\n",
      "|  4|Jane|\n",
      "+---+----+\n"
     ]
    }
   ],
   "source": [
    "df1 = spark.createDataFrame([(1, \"John\"), (2, \"Anna\")], [\"id\", \"name\"])\n",
    "df2 = spark.createDataFrame([(3, \"Mike\"), (4, \"Jane\")], [\"id\", \"name\"])\n",
    "df1.show()\n",
    "df2.show()"
   ],
   "metadata": {
    "collapsed": false,
    "ExecuteTime": {
     "end_time": "2024-04-27T10:48:30.953480Z",
     "start_time": "2024-04-27T10:48:30.420752Z"
    }
   },
   "id": "79192565ce7ee4e8",
   "execution_count": 89
  },
  {
   "cell_type": "code",
   "outputs": [
    {
     "name": "stdout",
     "output_type": "stream",
     "text": [
      "+---+----+\n",
      "| id|name|\n",
      "+---+----+\n",
      "|  1|John|\n",
      "|  2|Anna|\n",
      "|  3|Mike|\n",
      "|  4|Jane|\n",
      "+---+----+\n"
     ]
    }
   ],
   "source": [
    "df1.union(df2).show()"
   ],
   "metadata": {
    "collapsed": false,
    "ExecuteTime": {
     "end_time": "2024-04-27T10:48:37.644088Z",
     "start_time": "2024-04-27T10:48:37.245824Z"
    }
   },
   "id": "3a80d82067a5b76f",
   "execution_count": 90
  },
  {
   "cell_type": "markdown",
   "source": [
    "### withColumn()\n",
    "\n",
    "`withColumn()` dodaje nową kolumnę do obiektu DataFrame.\n"
   ],
   "metadata": {
    "collapsed": false
   },
   "id": "8e95642d26468f1d"
  },
  {
   "cell_type": "code",
   "outputs": [
    {
     "name": "stdout",
     "output_type": "stream",
     "text": [
      "+-----------+----------------------+-------------------+----------+\n",
      "|category_id|category_department_id|      category_name|new_column|\n",
      "+-----------+----------------------+-------------------+----------+\n",
      "|          1|                     2|           Football|         2|\n",
      "|          2|                     2|             Soccer|         3|\n",
      "|          3|                     2|Baseball & Softball|         4|\n",
      "|          4|                     2|         Basketball|         5|\n",
      "|          5|                     2|           Lacrosse|         6|\n",
      "+-----------+----------------------+-------------------+----------+\n"
     ]
    }
   ],
   "source": [
    "df.withColumn(\"new_column\", df[\"category_id\"] + 1).show(5)"
   ],
   "metadata": {
    "collapsed": false,
    "ExecuteTime": {
     "end_time": "2024-04-27T10:49:02.996560Z",
     "start_time": "2024-04-27T10:49:02.882657Z"
    }
   },
   "id": "90c3d22cc0b2afeb",
   "execution_count": 91
  },
  {
   "cell_type": "code",
   "outputs": [
    {
     "name": "stdout",
     "output_type": "stream",
     "text": [
      "+-----------+----------+\n",
      "|category_id|new_column|\n",
      "+-----------+----------+\n",
      "|          1|         2|\n",
      "|          2|         3|\n",
      "|          3|         4|\n",
      "|          4|         5|\n",
      "|          5|         6|\n",
      "+-----------+----------+\n"
     ]
    }
   ],
   "source": [
    "df.withColumn(\"new_column\", df[\"category_id\"] + 1).select(\"category_id\", \"new_column\").show(5)"
   ],
   "metadata": {
    "collapsed": false,
    "ExecuteTime": {
     "end_time": "2024-04-27T10:52:05.077167Z",
     "start_time": "2024-04-27T10:52:05.024110Z"
    }
   },
   "id": "835c4bfa19bb10e",
   "execution_count": 92
  },
  {
   "cell_type": "markdown",
   "source": [
    "### drop()\n",
    "\n",
    "`drop()` usuwa kolumnę z obiektu DataFrame."
   ],
   "metadata": {
    "collapsed": false
   },
   "id": "fcf077627ba98e34"
  },
  {
   "cell_type": "code",
   "outputs": [
    {
     "name": "stdout",
     "output_type": "stream",
     "text": [
      "+----------------------+-------------------+\n",
      "|category_department_id|      category_name|\n",
      "+----------------------+-------------------+\n",
      "|                     2|           Football|\n",
      "|                     2|             Soccer|\n",
      "|                     2|Baseball & Softball|\n",
      "|                     2|         Basketball|\n",
      "|                     2|           Lacrosse|\n",
      "+----------------------+-------------------+\n"
     ]
    }
   ],
   "source": [
    "df.drop(\"category_id\").show(5)"
   ],
   "metadata": {
    "collapsed": false,
    "ExecuteTime": {
     "end_time": "2024-04-27T10:52:30.252327Z",
     "start_time": "2024-04-27T10:52:30.200756Z"
    }
   },
   "id": "e78fdca7dedf45d0",
   "execution_count": 93
  },
  {
   "cell_type": "markdown",
   "source": [
    "### na()\n",
    "\n",
    "`na()` zwraca obiekt DataFrame z wartościami brakującymi zastąpionymi wartościami.\n",
    "\n",
    "\n"
   ],
   "metadata": {
    "collapsed": false
   },
   "id": "cc0d35b647434d51"
  },
  {
   "cell_type": "code",
   "outputs": [
    {
     "name": "stdout",
     "output_type": "stream",
     "text": [
      "+---+----+\n",
      "| id|name|\n",
      "+---+----+\n",
      "|  1|John|\n",
      "|  2|NULL|\n",
      "|  3|Mike|\n",
      "|  4|Jane|\n",
      "+---+----+\n"
     ]
    }
   ],
   "source": [
    "# przykładowy obiekt DataFrame z wartościami brakującymi\n",
    "df = spark.createDataFrame([(1, \"John\"), (2, None), (3, \"Mike\"), (4, \"Jane\")], [\"id\", \"name\"])\n",
    "df.show()\n"
   ],
   "metadata": {
    "collapsed": false,
    "ExecuteTime": {
     "end_time": "2024-04-27T10:53:50.064282Z",
     "start_time": "2024-04-27T10:53:49.826260Z"
    }
   },
   "id": "8b4acfb94bd3a90a",
   "execution_count": 95
  },
  {
   "cell_type": "code",
   "outputs": [
    {
     "name": "stdout",
     "output_type": "stream",
     "text": [
      "+---+----+\n",
      "| id|name|\n",
      "+---+----+\n",
      "|  1|John|\n",
      "|  2|Anna|\n",
      "|  3|Mike|\n",
      "|  4|Jane|\n",
      "+---+----+\n"
     ]
    }
   ],
   "source": [
    "df.na.fill(\"Anna\").show()   # zastępuje wartości brakujące wartością \"Anna\""
   ],
   "metadata": {
    "collapsed": false,
    "ExecuteTime": {
     "end_time": "2024-04-27T10:53:54.087383Z",
     "start_time": "2024-04-27T10:53:53.822625Z"
    }
   },
   "id": "43c579ad1b4e7786",
   "execution_count": 96
  },
  {
   "cell_type": "code",
   "outputs": [
    {
     "name": "stdout",
     "output_type": "stream",
     "text": [
      "+---+----+\n",
      "| id|name|\n",
      "+---+----+\n",
      "|  1|John|\n",
      "|  2|Anna|\n",
      "|  3|Mike|\n",
      "|  4|Jane|\n",
      "+---+----+\n"
     ]
    }
   ],
   "source": [
    "df.na.fill({\"name\": \"Anna\"}).show()   # zastępuje wartości brakujące wartością \"Anna\" w kolumnie name"
   ],
   "metadata": {
    "collapsed": false,
    "ExecuteTime": {
     "end_time": "2024-04-27T10:53:56.956411Z",
     "start_time": "2024-04-27T10:53:56.744648Z"
    }
   },
   "id": "2b46065ebfc9391f",
   "execution_count": 97
  },
  {
   "cell_type": "code",
   "outputs": [
    {
     "name": "stdout",
     "output_type": "stream",
     "text": [
      "+---+----+\n",
      "| id|name|\n",
      "+---+----+\n",
      "|  1|John|\n",
      "|  3|Mike|\n",
      "|  4|Jane|\n",
      "+---+----+\n"
     ]
    }
   ],
   "source": [
    "df.na.drop().show()   # usuwa wiersze z wartościami brakującymi"
   ],
   "metadata": {
    "collapsed": false,
    "ExecuteTime": {
     "end_time": "2024-04-27T10:54:04.882609Z",
     "start_time": "2024-04-27T10:54:04.660876Z"
    }
   },
   "id": "6d931c42088d6730",
   "execution_count": 98
  },
  {
   "cell_type": "markdown",
   "source": [
    "### replace()\n",
    "\n",
    "`replace()` zastępuje wartości w obiekcie DataFrame.\n",
    "Zamiana wartości w obiekcie DataFrame jest możliwa tylko dla kolumn typu string.\n"
   ],
   "metadata": {
    "collapsed": false
   },
   "id": "8fe5f423843aebe2"
  },
  {
   "cell_type": "code",
   "outputs": [
    {
     "name": "stdout",
     "output_type": "stream",
     "text": [
      "+-----------+----------------------+-------------------+\n",
      "|category_id|category_department_id|      category_name|\n",
      "+-----------+----------------------+-------------------+\n",
      "|          1|                     2|           Football|\n",
      "|          2|                     2|             Soccer|\n",
      "|          3|                     2|Baseball & Softball|\n",
      "|          4|                     2|         Basketball|\n",
      "|          5|                     2|           Lacrosse|\n",
      "+-----------+----------------------+-------------------+\n"
     ]
    }
   ],
   "source": [
    "df.replace(\"John\", \"Anna\").show(5)   # zastępuje wartość \"John\" wartością \"Anna\""
   ],
   "metadata": {
    "collapsed": false,
    "ExecuteTime": {
     "end_time": "2024-04-27T12:40:29.795138Z",
     "start_time": "2024-04-27T12:40:29.757978Z"
    }
   },
   "id": "4fc57f18e002dce1",
   "execution_count": 135
  },
  {
   "cell_type": "code",
   "outputs": [],
   "source": [],
   "metadata": {
    "collapsed": false
   },
   "id": "474d0ff74462fcc6"
  },
  {
   "cell_type": "markdown",
   "source": [
    "### cache()\n",
    "\n",
    "`cache()` zapisuje obiekt DataFrame w pamięci podręcznej."
   ],
   "metadata": {
    "collapsed": false
   },
   "id": "7d05b221a6658b9c"
  },
  {
   "cell_type": "code",
   "outputs": [
    {
     "data": {
      "text/plain": "DataFrame[id: bigint, name: string]"
     },
     "execution_count": 99,
     "metadata": {},
     "output_type": "execute_result"
    }
   ],
   "source": [
    "df = spark.createDataFrame([(1, \"John\"), (2, \"Anna\"), (3, \"Mike\"), (4, \"Jane\")], [\"id\", \"name\"])\n",
    "df.cache()"
   ],
   "metadata": {
    "collapsed": false,
    "ExecuteTime": {
     "end_time": "2024-04-27T10:54:32.101949Z",
     "start_time": "2024-04-27T10:54:32.073307Z"
    }
   },
   "id": "d03e685a548bf22c",
   "execution_count": 99
  },
  {
   "cell_type": "code",
   "outputs": [
    {
     "name": "stdout",
     "output_type": "stream",
     "text": [
      "+---+----+\n",
      "| id|name|\n",
      "+---+----+\n",
      "|  1|John|\n",
      "|  2|Anna|\n",
      "|  3|Mike|\n",
      "|  4|Jane|\n",
      "+---+----+\n"
     ]
    }
   ],
   "source": [
    "df.show()"
   ],
   "metadata": {
    "collapsed": false,
    "ExecuteTime": {
     "end_time": "2024-04-27T10:54:35.752480Z",
     "start_time": "2024-04-27T10:54:35.459475Z"
    }
   },
   "id": "5fa76f3e169136",
   "execution_count": 100
  },
  {
   "cell_type": "markdown",
   "source": [
    "### unpersist()\n",
    "\n",
    "`unpersist()` usuwa obiekt DataFrame z pamięci podręcznej. Pozwala to na zwolnienie pamięci podręcznej."
   ],
   "metadata": {
    "collapsed": false
   },
   "id": "3eea32bcbc06050c"
  },
  {
   "cell_type": "code",
   "outputs": [
    {
     "data": {
      "text/plain": "DataFrame[category_id: int, category_department_id: int, category_name: string]"
     },
     "execution_count": 126,
     "metadata": {},
     "output_type": "execute_result"
    }
   ],
   "source": [
    "df.unpersist()"
   ],
   "metadata": {
    "collapsed": false,
    "ExecuteTime": {
     "end_time": "2024-04-27T12:36:54.126154Z",
     "start_time": "2024-04-27T12:36:54.101030Z"
    }
   },
   "id": "20a0e41e9e0cd992",
   "execution_count": 126
  },
  {
   "cell_type": "code",
   "outputs": [
    {
     "name": "stdout",
     "output_type": "stream",
     "text": [
      "+-----------+----------------------+-------------------+\n",
      "|category_id|category_department_id|      category_name|\n",
      "+-----------+----------------------+-------------------+\n",
      "|          1|                     2|           Football|\n",
      "|          2|                     2|             Soccer|\n",
      "|          3|                     2|Baseball & Softball|\n",
      "|          4|                     2|         Basketball|\n",
      "|          5|                     2|           Lacrosse|\n",
      "+-----------+----------------------+-------------------+\n"
     ]
    }
   ],
   "source": [
    "df.show(5)"
   ],
   "metadata": {
    "collapsed": false,
    "ExecuteTime": {
     "end_time": "2024-04-27T12:37:03.001480Z",
     "start_time": "2024-04-27T12:37:02.954421Z"
    }
   },
   "id": "38e3c678eef20cd6",
   "execution_count": 128
  },
  {
   "cell_type": "code",
   "outputs": [
    {
     "data": {
      "text/plain": "[Row(category_id=1, category_department_id=2, category_name='Football'),\n Row(category_id=2, category_department_id=2, category_name='Soccer'),\n Row(category_id=3, category_department_id=2, category_name='Baseball & Softball'),\n Row(category_id=4, category_department_id=2, category_name='Basketball'),\n Row(category_id=5, category_department_id=2, category_name='Lacrosse')]"
     },
     "execution_count": 129,
     "metadata": {},
     "output_type": "execute_result"
    }
   ],
   "source": [
    "df.take(5)"
   ],
   "metadata": {
    "collapsed": false,
    "ExecuteTime": {
     "end_time": "2024-04-27T12:37:09.211180Z",
     "start_time": "2024-04-27T12:37:09.087838Z"
    }
   },
   "id": "9de2d5c88587ab8c",
   "execution_count": 129
  },
  {
   "cell_type": "markdown",
   "source": [
    "### collect(), take(), head(), first(), show(), toPandas()\n",
    "\n",
    "`collect()` zwraca wszystkie wiersze obiektu DataFrame do sterownika programu.\n",
    "`take(n)` zwraca n pierwszych wierszy obiektu DataFrame do sterownika programu.\n",
    "`head(n)` zwraca n pierwszych wierszy obiektu DataFrame do sterownika programu.\n",
    "`first()` zwraca pierwszy wiersz obiektu DataFrame do sterownika programu.\n",
    "`show(n)` wyświetla n pierwszych wierszy obiektu DataFrame.\n",
    "`toPandas()` zwraca obiekt DataFrame jako obiekt Pandas.\n"
   ],
   "metadata": {
    "collapsed": false
   },
   "id": "bb6084d7afa8b68b"
  },
  {
   "cell_type": "markdown",
   "source": [
    "### write()\n",
    "\n",
    "`write()` zapisuje obiekt DataFrame do pliku."
   ],
   "metadata": {
    "collapsed": false
   },
   "id": "1324881800e4dc6e"
  },
  {
   "cell_type": "code",
   "outputs": [],
   "source": [
    "df = spark.read.parquet(\"../../data/sklep/categories\")\n",
    "df.write.csv(\"categories.csv\")"
   ],
   "metadata": {
    "collapsed": false,
    "ExecuteTime": {
     "end_time": "2024-04-27T12:39:07.271832Z",
     "start_time": "2024-04-27T12:39:07.017021Z"
    }
   },
   "id": "71d4d02a73d09648",
   "execution_count": 131
  },
  {
   "cell_type": "markdown",
   "source": [
    "## Zapytania SQL na obiektach DataFrame\n",
    "\n",
    "Obiekty DataFrame można przekształcić na tabele tymczasowe, które można wykorzystać w zapytaniach SQL."
   ],
   "metadata": {
    "collapsed": false
   },
   "id": "c630ff757503404d"
  },
  {
   "cell_type": "code",
   "outputs": [],
   "source": [
    "df = spark.read.parquet(\"../../data/sklep/categories\")\n",
    "df.createOrReplaceTempView(\"categories\")\n"
   ],
   "metadata": {
    "collapsed": false,
    "ExecuteTime": {
     "end_time": "2024-04-27T12:39:29.207804Z",
     "start_time": "2024-04-27T12:39:29.130481Z"
    }
   },
   "id": "b73984e70f76d081",
   "execution_count": 132
  },
  {
   "cell_type": "code",
   "outputs": [
    {
     "name": "stdout",
     "output_type": "stream",
     "text": [
      "+-----------+----------------------+-------------------+\n",
      "|category_id|category_department_id|      category_name|\n",
      "+-----------+----------------------+-------------------+\n",
      "|          1|                     2|           Football|\n",
      "|          2|                     2|             Soccer|\n",
      "|          3|                     2|Baseball & Softball|\n",
      "|          4|                     2|         Basketball|\n",
      "|          5|                     2|           Lacrosse|\n",
      "+-----------+----------------------+-------------------+\n"
     ]
    }
   ],
   "source": [
    "spark.sql(\"SELECT * FROM categories\").show(5)"
   ],
   "metadata": {
    "collapsed": false,
    "ExecuteTime": {
     "end_time": "2024-04-27T12:39:32.800828Z",
     "start_time": "2024-04-27T12:39:32.737925Z"
    }
   },
   "id": "d5c6ad1564079be1",
   "execution_count": 133
  },
  {
   "cell_type": "code",
   "outputs": [],
   "source": [],
   "metadata": {
    "collapsed": false
   },
   "id": "a98e7b01d8cbfa08"
  }
 ],
 "metadata": {
  "kernelspec": {
   "display_name": "Python 3 (ipykernel)",
   "language": "python",
   "name": "python3"
  },
  "language_info": {
   "codemirror_mode": {
    "name": "ipython",
    "version": 3
   },
   "file_extension": ".py",
   "mimetype": "text/x-python",
   "name": "python",
   "nbconvert_exporter": "python",
   "pygments_lexer": "ipython3",
   "version": "3.11.2"
  }
 },
 "nbformat": 4,
 "nbformat_minor": 5
}
