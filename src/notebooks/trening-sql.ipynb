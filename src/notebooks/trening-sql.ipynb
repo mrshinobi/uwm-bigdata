{
 "cells": [
  {
   "cell_type": "code",
   "execution_count": 1,
   "id": "initial_id",
   "metadata": {
    "collapsed": true,
    "ExecuteTime": {
     "end_time": "2024-04-27T12:05:03.554582Z",
     "start_time": "2024-04-27T12:05:03.393127Z"
    }
   },
   "outputs": [],
   "source": [
    "from pyspark.sql import SparkSession"
   ]
  },
  {
   "cell_type": "code",
   "outputs": [
    {
     "data": {
      "text/plain": "<pyspark.sql.session.SparkSession at 0x10bbbf5d0>",
      "text/html": "\n            <div>\n                <p><b>SparkSession - in-memory</b></p>\n                \n        <div>\n            <p><b>SparkContext</b></p>\n\n            <p><a href=\"http://192.168.0.94:4043\">Spark UI</a></p>\n\n            <dl>\n              <dt>Version</dt>\n                <dd><code>v3.5.0</code></dd>\n              <dt>Master</dt>\n                <dd><code>local[*]</code></dd>\n              <dt>AppName</dt>\n                <dd><code>nlp</code></dd>\n            </dl>\n        </div>\n        \n            </div>\n        "
     },
     "execution_count": 3,
     "metadata": {},
     "output_type": "execute_result"
    }
   ],
   "source": [
    "spark = SparkSession.builder.appName('nlp').getOrCreate()\n",
    "spark"
   ],
   "metadata": {
    "collapsed": false,
    "ExecuteTime": {
     "end_time": "2024-04-27T12:05:27.821579Z",
     "start_time": "2024-04-27T12:05:27.190206Z"
    }
   },
   "id": "8a7602c311a08a69",
   "execution_count": 3
  },
  {
   "cell_type": "code",
   "outputs": [
    {
     "name": "stdout",
     "output_type": "stream",
     "text": [
      "root\n",
      " |-- category_id: integer (nullable = true)\n",
      " |-- category_department_id: integer (nullable = true)\n",
      " |-- category_name: string (nullable = true)\n"
     ]
    }
   ],
   "source": [
    "categories = spark.read.parquet(\"../../data/sklep/categories\")\n",
    "categories.printSchema()"
   ],
   "metadata": {
    "collapsed": false,
    "ExecuteTime": {
     "end_time": "2024-04-27T12:07:16.091731Z",
     "start_time": "2024-04-27T12:07:15.974021Z"
    }
   },
   "id": "b2ba1d33c3c3079b",
   "execution_count": 5
  },
  {
   "cell_type": "code",
   "outputs": [
    {
     "name": "stdout",
     "output_type": "stream",
     "text": [
      "root\n",
      " |-- customer_id: integer (nullable = true)\n",
      " |-- customer_fname: string (nullable = true)\n",
      " |-- customer_lname: string (nullable = true)\n",
      " |-- customer_email: string (nullable = true)\n",
      " |-- customer_password: string (nullable = true)\n",
      " |-- customer_street: string (nullable = true)\n",
      " |-- customer_city: string (nullable = true)\n",
      " |-- customer_state: string (nullable = true)\n",
      " |-- customer_zipcode: string (nullable = true)\n"
     ]
    }
   ],
   "source": [
    "customers = spark.read.parquet(\"../../data/sklep/customers\")\n",
    "customers.printSchema()"
   ],
   "metadata": {
    "collapsed": false,
    "ExecuteTime": {
     "end_time": "2024-04-27T12:41:51.984808Z",
     "start_time": "2024-04-27T12:41:51.837980Z"
    }
   },
   "id": "37025d871dd3ebc8",
   "execution_count": 11
  },
  {
   "cell_type": "code",
   "outputs": [
    {
     "name": "stdout",
     "output_type": "stream",
     "text": [
      "+-----------+--------------+--------------+--------------+-----------------+--------------------+-------------+--------------+----------------+\n",
      "|customer_id|customer_fname|customer_lname|customer_email|customer_password|     customer_street|customer_city|customer_state|customer_zipcode|\n",
      "+-----------+--------------+--------------+--------------+-----------------+--------------------+-------------+--------------+----------------+\n",
      "|          1|       Richard|     Hernandez|     XXXXXXXXX|        XXXXXXXXX|  6303 Heather Plaza|  Brownsville|            TX|           78521|\n",
      "|          2|          Mary|       Barrett|     XXXXXXXXX|        XXXXXXXXX|9526 Noble Embers...|    Littleton|            CO|           80126|\n",
      "|          3|           Ann|         Smith|     XXXXXXXXX|        XXXXXXXXX|3422 Blue Pioneer...|       Caguas|            PR|           00725|\n",
      "|          4|          Mary|         Jones|     XXXXXXXXX|        XXXXXXXXX|  8324 Little Common|   San Marcos|            CA|           92069|\n",
      "|          5|        Robert|        Hudson|     XXXXXXXXX|        XXXXXXXXX|10 Crystal River ...|       Caguas|            PR|           00725|\n",
      "+-----------+--------------+--------------+--------------+-----------------+--------------------+-------------+--------------+----------------+\n"
     ]
    }
   ],
   "source": [
    "customers.show(5)"
   ],
   "metadata": {
    "collapsed": false,
    "ExecuteTime": {
     "end_time": "2024-04-27T12:42:05.822040Z",
     "start_time": "2024-04-27T12:42:03.791139Z"
    }
   },
   "id": "164fd27a548dc5ca",
   "execution_count": 12
  },
  {
   "cell_type": "code",
   "outputs": [
    {
     "name": "stdout",
     "output_type": "stream",
     "text": [
      "root\n",
      " |-- department_id: integer (nullable = true)\n",
      " |-- department_name: string (nullable = true)\n",
      "\n",
      "+-------------+---------------+\n",
      "|department_id|department_name|\n",
      "+-------------+---------------+\n",
      "|            2|        Fitness|\n",
      "|            3|       Footwear|\n",
      "|            4|        Apparel|\n",
      "|            5|           Golf|\n",
      "|            6|       Outdoors|\n",
      "+-------------+---------------+\n",
      "only showing top 5 rows\n"
     ]
    }
   ],
   "source": [
    "departments = spark.read.parquet(\"../../data/sklep/departments\")\n",
    "departments.printSchema()\n",
    "departments.show(5)"
   ],
   "metadata": {
    "collapsed": false,
    "ExecuteTime": {
     "end_time": "2024-04-27T12:42:45.228143Z",
     "start_time": "2024-04-27T12:42:45.051114Z"
    }
   },
   "id": "e1367a2d447286ff",
   "execution_count": 13
  },
  {
   "cell_type": "code",
   "outputs": [
    {
     "name": "stdout",
     "output_type": "stream",
     "text": [
      "root\n",
      " |-- order_item_id: integer (nullable = true)\n",
      " |-- order_item_order_id: integer (nullable = true)\n",
      " |-- order_item_product_id: integer (nullable = true)\n",
      " |-- order_item_quantity: integer (nullable = true)\n",
      " |-- order_item_subtotal: float (nullable = true)\n",
      " |-- order_item_product_price: float (nullable = true)\n"
     ]
    },
    {
     "data": {
      "text/plain": "   order_item_id  order_item_order_id  order_item_product_id  \\\n0              1                    1                    957   \n1              2                    2                   1073   \n2              3                    2                    502   \n3              4                    2                    403   \n4              5                    4                    897   \n\n   order_item_quantity  order_item_subtotal  order_item_product_price  \n0                    1           299.980011                299.980011  \n1                    1           199.990005                199.990005  \n2                    5           250.000000                 50.000000  \n3                    1           129.990005                129.990005  \n4                    2            49.980000                 24.990000  ",
      "text/html": "<div>\n<style scoped>\n    .dataframe tbody tr th:only-of-type {\n        vertical-align: middle;\n    }\n\n    .dataframe tbody tr th {\n        vertical-align: top;\n    }\n\n    .dataframe thead th {\n        text-align: right;\n    }\n</style>\n<table border=\"1\" class=\"dataframe\">\n  <thead>\n    <tr style=\"text-align: right;\">\n      <th></th>\n      <th>order_item_id</th>\n      <th>order_item_order_id</th>\n      <th>order_item_product_id</th>\n      <th>order_item_quantity</th>\n      <th>order_item_subtotal</th>\n      <th>order_item_product_price</th>\n    </tr>\n  </thead>\n  <tbody>\n    <tr>\n      <th>0</th>\n      <td>1</td>\n      <td>1</td>\n      <td>957</td>\n      <td>1</td>\n      <td>299.980011</td>\n      <td>299.980011</td>\n    </tr>\n    <tr>\n      <th>1</th>\n      <td>2</td>\n      <td>2</td>\n      <td>1073</td>\n      <td>1</td>\n      <td>199.990005</td>\n      <td>199.990005</td>\n    </tr>\n    <tr>\n      <th>2</th>\n      <td>3</td>\n      <td>2</td>\n      <td>502</td>\n      <td>5</td>\n      <td>250.000000</td>\n      <td>50.000000</td>\n    </tr>\n    <tr>\n      <th>3</th>\n      <td>4</td>\n      <td>2</td>\n      <td>403</td>\n      <td>1</td>\n      <td>129.990005</td>\n      <td>129.990005</td>\n    </tr>\n    <tr>\n      <th>4</th>\n      <td>5</td>\n      <td>4</td>\n      <td>897</td>\n      <td>2</td>\n      <td>49.980000</td>\n      <td>24.990000</td>\n    </tr>\n  </tbody>\n</table>\n</div>"
     },
     "execution_count": 15,
     "metadata": {},
     "output_type": "execute_result"
    }
   ],
   "source": [
    "order_items = spark.read.parquet(\"../../data/sklep/order_items\")\n",
    "order_items.printSchema()\n",
    "order_items.toPandas().head(5)"
   ],
   "metadata": {
    "collapsed": false,
    "ExecuteTime": {
     "end_time": "2024-04-27T12:43:44.007209Z",
     "start_time": "2024-04-27T12:43:42.170764Z"
    }
   },
   "id": "4203b0988ca71330",
   "execution_count": 15
  },
  {
   "cell_type": "code",
   "outputs": [
    {
     "name": "stdout",
     "output_type": "stream",
     "text": [
      "root\n",
      " |-- order_id: integer (nullable = true)\n",
      " |-- order_date: long (nullable = true)\n",
      " |-- order_customer_id: integer (nullable = true)\n",
      " |-- order_status: string (nullable = true)\n"
     ]
    },
    {
     "data": {
      "text/plain": "[Row(order_id=1, order_date=1374735600000, order_customer_id=11599, order_status='CLOSED'),\n Row(order_id=2, order_date=1374735600000, order_customer_id=256, order_status='PENDING_PAYMENT'),\n Row(order_id=3, order_date=1374735600000, order_customer_id=12111, order_status='COMPLETE'),\n Row(order_id=4, order_date=1374735600000, order_customer_id=8827, order_status='CLOSED'),\n Row(order_id=5, order_date=1374735600000, order_customer_id=11318, order_status='COMPLETE')]"
     },
     "execution_count": 16,
     "metadata": {},
     "output_type": "execute_result"
    }
   ],
   "source": [
    "orders = spark.read.parquet(\"../../data/sklep/orders\")\n",
    "orders.printSchema()\n",
    "orders.head(5)"
   ],
   "metadata": {
    "collapsed": false,
    "ExecuteTime": {
     "end_time": "2024-04-27T12:47:04.555321Z",
     "start_time": "2024-04-27T12:47:04.291116Z"
    }
   },
   "id": "833979e58e36beba",
   "execution_count": 16
  },
  {
   "cell_type": "code",
   "outputs": [
    {
     "name": "stdout",
     "output_type": "stream",
     "text": [
      "root\n",
      " |-- product_id: integer (nullable = true)\n",
      " |-- product_category_id: integer (nullable = true)\n",
      " |-- product_name: string (nullable = true)\n",
      " |-- product_description: string (nullable = true)\n",
      " |-- product_price: float (nullable = true)\n",
      " |-- product_image: string (nullable = true)\n"
     ]
    },
    {
     "data": {
      "text/plain": "[Row(product_id=1, product_category_id=2, product_name='Quest Q64 10 FT. x 10 FT. Slant Leg Instant U', product_description='', product_price=59.97999954223633, product_image='http://images.acmesports.sports/Quest+Q64+10+FT.+x+10+FT.+Slant+Leg+Instant+Up+Canopy'),\n Row(product_id=2, product_category_id=2, product_name=\"Under Armour Men's Highlight MC Football Clea\", product_description='', product_price=129.99000549316406, product_image='http://images.acmesports.sports/Under+Armour+Men%27s+Highlight+MC+Football+Cleat'),\n Row(product_id=3, product_category_id=2, product_name=\"Under Armour Men's Renegade D Mid Football Cl\", product_description='', product_price=89.98999786376953, product_image='http://images.acmesports.sports/Under+Armour+Men%27s+Renegade+D+Mid+Football+Cleat'),\n Row(product_id=4, product_category_id=2, product_name=\"Under Armour Men's Renegade D Mid Football Cl\", product_description='', product_price=89.98999786376953, product_image='http://images.acmesports.sports/Under+Armour+Men%27s+Renegade+D+Mid+Football+Cleat'),\n Row(product_id=5, product_category_id=2, product_name='Riddell Youth Revolution Speed Custom Footbal', product_description='', product_price=199.99000549316406, product_image='http://images.acmesports.sports/Riddell+Youth+Revolution+Speed+Custom+Football+Helmet')]"
     },
     "execution_count": 17,
     "metadata": {},
     "output_type": "execute_result"
    }
   ],
   "source": [
    "products = spark.read.parquet(\"../../data/sklep/products\")\n",
    "products.printSchema()\n",
    "products.head(5)"
   ],
   "metadata": {
    "collapsed": false,
    "ExecuteTime": {
     "end_time": "2024-04-27T12:48:23.189566Z",
     "start_time": "2024-04-27T12:48:23.011085Z"
    }
   },
   "id": "9a36211bae088083",
   "execution_count": 17
  },
  {
   "cell_type": "code",
   "outputs": [],
   "source": [
    "join_types = [\"inner\", \"cross\", \"outer\", \"full\", \"left_outer\", \"right_outer\", \"left_semi\", \"left_anti\"]"
   ],
   "metadata": {
    "collapsed": false,
    "ExecuteTime": {
     "end_time": "2024-04-27T13:04:22.716733Z",
     "start_time": "2024-04-27T13:04:22.711855Z"
    }
   },
   "id": "9b62fb95e4d11e1c",
   "execution_count": 18
  },
  {
   "cell_type": "code",
   "outputs": [
    {
     "name": "stdout",
     "output_type": "stream",
     "text": [
      "+-----------+----------------------+-------------------+-------------+---------------+\n",
      "|category_id|category_department_id|      category_name|department_id|department_name|\n",
      "+-----------+----------------------+-------------------+-------------+---------------+\n",
      "|          1|                     2|           Football|            2|        Fitness|\n",
      "|          1|                     2|           Football|            2|        Fitness|\n",
      "|          2|                     2|             Soccer|            2|        Fitness|\n",
      "|          2|                     2|             Soccer|            2|        Fitness|\n",
      "|          3|                     2|Baseball & Softball|            2|        Fitness|\n",
      "+-----------+----------------------+-------------------+-------------+---------------+\n"
     ]
    }
   ],
   "source": [
    "categories.join(departments, categories.category_department_id == departments.department_id).show(5)"
   ],
   "metadata": {
    "collapsed": false,
    "ExecuteTime": {
     "end_time": "2024-04-27T13:05:23.146385Z",
     "start_time": "2024-04-27T13:05:22.675340Z"
    }
   },
   "id": "17da868d6c296b3a",
   "execution_count": 20
  },
  {
   "cell_type": "code",
   "outputs": [
    {
     "name": "stdout",
     "output_type": "stream",
     "text": [
      "inner 192\n",
      "cross 192\n",
      "outer 212\n",
      "full 212\n",
      "left_outer 212\n",
      "right_outer 192\n"
     ]
    }
   ],
   "source": [
    "for join_type in join_types:\n",
    "    cats_on_deps = categories.join(other=departments, on=categories.category_department_id == departments.department_id, how=join_type)\n",
    "    count = cats_on_deps.count()\n",
    "    print(join_type, count)"
   ],
   "metadata": {
    "collapsed": false,
    "ExecuteTime": {
     "end_time": "2024-04-27T13:07:13.549406Z",
     "start_time": "2024-04-27T13:07:12.772513Z"
    }
   },
   "id": "e8c4f2fc063e960d",
   "execution_count": 22
  },
  {
   "cell_type": "code",
   "outputs": [
    {
     "name": "stdout",
     "output_type": "stream",
     "text": [
      "+-------------+-------------------+---------------------+-------------------+-------------------+------------------------+----------+-------------------+--------------------+-------------------+-------------+--------------------+\n",
      "|order_item_id|order_item_order_id|order_item_product_id|order_item_quantity|order_item_subtotal|order_item_product_price|product_id|product_category_id|        product_name|product_description|product_price|       product_image|\n",
      "+-------------+-------------------+---------------------+-------------------+-------------------+------------------------+----------+-------------------+--------------------+-------------------+-------------+--------------------+\n",
      "|            1|                  1|                  957|                  1|             299.98|                  299.98|       957|                 43|Diamondback Women...|                   |       299.98|http://images.acm...|\n",
      "|            1|                  1|                  957|                  1|             299.98|                  299.98|       957|                 43|Diamondback Women...|                   |       299.98|http://images.acm...|\n",
      "|            2|                  2|                 1073|                  1|             199.99|                  199.99|      1073|                 48|Pelican Sunstream...|                   |       199.99|http://images.acm...|\n",
      "|            2|                  2|                 1073|                  1|             199.99|                  199.99|      1073|                 48|Pelican Sunstream...|                   |       199.99|http://images.acm...|\n",
      "|            3|                  2|                  502|                  5|              250.0|                    50.0|       502|                 24|Nike Men's Dri-FI...|                   |         50.0|http://images.acm...|\n",
      "+-------------+-------------------+---------------------+-------------------+-------------------+------------------------+----------+-------------------+--------------------+-------------------+-------------+--------------------+\n"
     ]
    }
   ],
   "source": [
    "order_items.join(products, order_items.order_item_product_id == products.product_id).show(5)"
   ],
   "metadata": {
    "collapsed": false,
    "ExecuteTime": {
     "end_time": "2024-04-27T13:13:46.750530Z",
     "start_time": "2024-04-27T13:13:46.461240Z"
    }
   },
   "id": "560f730bee6680b2",
   "execution_count": 23
  },
  {
   "cell_type": "code",
   "outputs": [
    {
     "data": {
      "text/plain": "<pyspark.sql.session.SparkSession at 0x10bbbf5d0>",
      "text/html": "\n            <div>\n                <p><b>SparkSession - in-memory</b></p>\n                \n        <div>\n            <p><b>SparkContext</b></p>\n\n            <p><a href=\"http://192.168.0.94:4043\">Spark UI</a></p>\n\n            <dl>\n              <dt>Version</dt>\n                <dd><code>v3.5.0</code></dd>\n              <dt>Master</dt>\n                <dd><code>local[*]</code></dd>\n              <dt>AppName</dt>\n                <dd><code>nlp</code></dd>\n            </dl>\n        </div>\n        \n            </div>\n        "
     },
     "execution_count": 24,
     "metadata": {},
     "output_type": "execute_result"
    }
   ],
   "source": [
    "spark"
   ],
   "metadata": {
    "collapsed": false,
    "ExecuteTime": {
     "end_time": "2024-04-27T13:14:52.439199Z",
     "start_time": "2024-04-27T13:14:52.434357Z"
    }
   },
   "id": "4a4fd9bb1f4e3566",
   "execution_count": 24
  },
  {
   "cell_type": "code",
   "outputs": [],
   "source": [
    "customers.createOrReplaceTempView(\"customers\")"
   ],
   "metadata": {
    "collapsed": false,
    "ExecuteTime": {
     "end_time": "2024-04-27T13:21:25.097283Z",
     "start_time": "2024-04-27T13:21:25.062809Z"
    }
   },
   "id": "59512bb66c8a8601",
   "execution_count": 27
  },
  {
   "cell_type": "code",
   "outputs": [],
   "source": [
    "df = spark.sql(\"SELECT * FROM customers\")"
   ],
   "metadata": {
    "collapsed": false,
    "ExecuteTime": {
     "end_time": "2024-04-27T13:21:44.893505Z",
     "start_time": "2024-04-27T13:21:44.882561Z"
    }
   },
   "id": "e36a578dd739ffdb",
   "execution_count": 29
  },
  {
   "cell_type": "code",
   "outputs": [
    {
     "name": "stdout",
     "output_type": "stream",
     "text": [
      "+-----------+--------------+--------------+--------------+-----------------+--------------------+-------------+--------------+----------------+\n",
      "|customer_id|customer_fname|customer_lname|customer_email|customer_password|     customer_street|customer_city|customer_state|customer_zipcode|\n",
      "+-----------+--------------+--------------+--------------+-----------------+--------------------+-------------+--------------+----------------+\n",
      "|          1|       Richard|     Hernandez|     XXXXXXXXX|        XXXXXXXXX|  6303 Heather Plaza|  Brownsville|            TX|           78521|\n",
      "|          2|          Mary|       Barrett|     XXXXXXXXX|        XXXXXXXXX|9526 Noble Embers...|    Littleton|            CO|           80126|\n",
      "|          3|           Ann|         Smith|     XXXXXXXXX|        XXXXXXXXX|3422 Blue Pioneer...|       Caguas|            PR|           00725|\n",
      "|          4|          Mary|         Jones|     XXXXXXXXX|        XXXXXXXXX|  8324 Little Common|   San Marcos|            CA|           92069|\n",
      "|          5|        Robert|        Hudson|     XXXXXXXXX|        XXXXXXXXX|10 Crystal River ...|       Caguas|            PR|           00725|\n",
      "+-----------+--------------+--------------+--------------+-----------------+--------------------+-------------+--------------+----------------+\n"
     ]
    }
   ],
   "source": [
    "df.show(5)"
   ],
   "metadata": {
    "collapsed": false,
    "ExecuteTime": {
     "end_time": "2024-04-27T13:21:47.595220Z",
     "start_time": "2024-04-27T13:21:47.524733Z"
    }
   },
   "id": "89cd8020d0c2128b",
   "execution_count": 30
  },
  {
   "cell_type": "code",
   "outputs": [
    {
     "data": {
      "text/plain": "   customer_id customer_fname customer_lname customer_email customer_password  \\\n0            1        Richard      Hernandez      XXXXXXXXX         XXXXXXXXX   \n1            2           Mary        Barrett      XXXXXXXXX         XXXXXXXXX   \n2            3            Ann          Smith      XXXXXXXXX         XXXXXXXXX   \n3            4           Mary          Jones      XXXXXXXXX         XXXXXXXXX   \n4            5         Robert         Hudson      XXXXXXXXX         XXXXXXXXX   \n\n           customer_street customer_city customer_state customer_zipcode  \n0       6303 Heather Plaza   Brownsville             TX            78521  \n1  9526 Noble Embers Ridge     Littleton             CO            80126  \n2   3422 Blue Pioneer Bend        Caguas             PR            00725  \n3       8324 Little Common    San Marcos             CA            92069  \n4   10 Crystal River Mall         Caguas             PR            00725  ",
      "text/html": "<div>\n<style scoped>\n    .dataframe tbody tr th:only-of-type {\n        vertical-align: middle;\n    }\n\n    .dataframe tbody tr th {\n        vertical-align: top;\n    }\n\n    .dataframe thead th {\n        text-align: right;\n    }\n</style>\n<table border=\"1\" class=\"dataframe\">\n  <thead>\n    <tr style=\"text-align: right;\">\n      <th></th>\n      <th>customer_id</th>\n      <th>customer_fname</th>\n      <th>customer_lname</th>\n      <th>customer_email</th>\n      <th>customer_password</th>\n      <th>customer_street</th>\n      <th>customer_city</th>\n      <th>customer_state</th>\n      <th>customer_zipcode</th>\n    </tr>\n  </thead>\n  <tbody>\n    <tr>\n      <th>0</th>\n      <td>1</td>\n      <td>Richard</td>\n      <td>Hernandez</td>\n      <td>XXXXXXXXX</td>\n      <td>XXXXXXXXX</td>\n      <td>6303 Heather Plaza</td>\n      <td>Brownsville</td>\n      <td>TX</td>\n      <td>78521</td>\n    </tr>\n    <tr>\n      <th>1</th>\n      <td>2</td>\n      <td>Mary</td>\n      <td>Barrett</td>\n      <td>XXXXXXXXX</td>\n      <td>XXXXXXXXX</td>\n      <td>9526 Noble Embers Ridge</td>\n      <td>Littleton</td>\n      <td>CO</td>\n      <td>80126</td>\n    </tr>\n    <tr>\n      <th>2</th>\n      <td>3</td>\n      <td>Ann</td>\n      <td>Smith</td>\n      <td>XXXXXXXXX</td>\n      <td>XXXXXXXXX</td>\n      <td>3422 Blue Pioneer Bend</td>\n      <td>Caguas</td>\n      <td>PR</td>\n      <td>00725</td>\n    </tr>\n    <tr>\n      <th>3</th>\n      <td>4</td>\n      <td>Mary</td>\n      <td>Jones</td>\n      <td>XXXXXXXXX</td>\n      <td>XXXXXXXXX</td>\n      <td>8324 Little Common</td>\n      <td>San Marcos</td>\n      <td>CA</td>\n      <td>92069</td>\n    </tr>\n    <tr>\n      <th>4</th>\n      <td>5</td>\n      <td>Robert</td>\n      <td>Hudson</td>\n      <td>XXXXXXXXX</td>\n      <td>XXXXXXXXX</td>\n      <td>10 Crystal River Mall</td>\n      <td>Caguas</td>\n      <td>PR</td>\n      <td>00725</td>\n    </tr>\n  </tbody>\n</table>\n</div>"
     },
     "execution_count": 32,
     "metadata": {},
     "output_type": "execute_result"
    }
   ],
   "source": [
    "df.toPandas().head(5)"
   ],
   "metadata": {
    "collapsed": false,
    "ExecuteTime": {
     "end_time": "2024-04-27T13:22:15.312232Z",
     "start_time": "2024-04-27T13:22:15.006555Z"
    }
   },
   "id": "f97366ce185d6612",
   "execution_count": 32
  },
  {
   "cell_type": "code",
   "outputs": [],
   "source": [
    "data_frames = [categories, departments, order_items, orders, products]\n",
    "data_frames_names = [\"categories\", \"departments\", \"order_items\", \"orders\", \"products\"]\n",
    "for df, df_name in zip(data_frames, data_frames_names):\n",
    "    df.createOrReplaceTempView(df_name)"
   ],
   "metadata": {
    "collapsed": false,
    "ExecuteTime": {
     "end_time": "2024-04-27T13:25:01.294948Z",
     "start_time": "2024-04-27T13:25:01.231235Z"
    }
   },
   "id": "d7e57b6111ffb8f2",
   "execution_count": 33
  },
  {
   "cell_type": "code",
   "outputs": [
    {
     "name": "stdout",
     "output_type": "stream",
     "text": [
      "+-----------+----------------------+-------------------+\n",
      "|category_id|category_department_id|      category_name|\n",
      "+-----------+----------------------+-------------------+\n",
      "|          1|                     2|           Football|\n",
      "|          2|                     2|             Soccer|\n",
      "|          3|                     2|Baseball & Softball|\n",
      "|          4|                     2|         Basketball|\n",
      "|          5|                     2|           Lacrosse|\n",
      "+-----------+----------------------+-------------------+\n"
     ]
    }
   ],
   "source": [
    "spark.sql(\"select * from categories\").show(5)"
   ],
   "metadata": {
    "collapsed": false,
    "ExecuteTime": {
     "end_time": "2024-04-27T13:25:54.069210Z",
     "start_time": "2024-04-27T13:25:53.974469Z"
    }
   },
   "id": "6c89552ebdcc9ac6",
   "execution_count": 34
  },
  {
   "cell_type": "code",
   "outputs": [
    {
     "name": "stdout",
     "output_type": "stream",
     "text": [
      "+-----------+-------------------+\n",
      "|category_id|      category_name|\n",
      "+-----------+-------------------+\n",
      "|          1|           Football|\n",
      "|          2|             Soccer|\n",
      "|          3|Baseball & Softball|\n",
      "|          4|         Basketball|\n",
      "|          5|           Lacrosse|\n",
      "+-----------+-------------------+\n"
     ]
    }
   ],
   "source": [
    "spark.sql(\"select category_id, category_name from categories\").show(5)"
   ],
   "metadata": {
    "collapsed": false,
    "ExecuteTime": {
     "end_time": "2024-04-27T13:26:48.174075Z",
     "start_time": "2024-04-27T13:26:48.077941Z"
    }
   },
   "id": "b09c449a68c10525",
   "execution_count": 35
  },
  {
   "cell_type": "code",
   "outputs": [
    {
     "name": "stdout",
     "output_type": "stream",
     "text": [
      "+-----------+-------------+\n",
      "|category_id|category_name|\n",
      "+-----------+-------------+\n",
      "|          1|     Football|\n",
      "+-----------+-------------+\n"
     ]
    }
   ],
   "source": [
    "spark.sql(\"select distinct category_id, category_name from categories where category_id = 1\").show(5)"
   ],
   "metadata": {
    "collapsed": false,
    "ExecuteTime": {
     "end_time": "2024-04-27T13:34:10.049113Z",
     "start_time": "2024-04-27T13:34:09.642658Z"
    }
   },
   "id": "4f57e92ebf8e5706",
   "execution_count": 37
  },
  {
   "cell_type": "code",
   "outputs": [],
   "source": [
    "with open(\"../../src/sql/select_category.sql\", \"r\") as f:\n",
    "    category_query_template = f.read()\n"
   ],
   "metadata": {
    "collapsed": false,
    "ExecuteTime": {
     "end_time": "2024-04-27T13:37:51.989990Z",
     "start_time": "2024-04-27T13:37:51.986912Z"
    }
   },
   "id": "6865a8616b232ed1",
   "execution_count": 42
  },
  {
   "cell_type": "code",
   "outputs": [
    {
     "data": {
      "text/plain": "'select distinct category_id, category_name from categories where category_id = {category_id}\\n'"
     },
     "execution_count": 43,
     "metadata": {},
     "output_type": "execute_result"
    }
   ],
   "source": [
    "category_query_template"
   ],
   "metadata": {
    "collapsed": false,
    "ExecuteTime": {
     "end_time": "2024-04-27T13:37:54.368495Z",
     "start_time": "2024-04-27T13:37:54.365722Z"
    }
   },
   "id": "7397d75df065dca8",
   "execution_count": 43
  },
  {
   "cell_type": "code",
   "outputs": [
    {
     "data": {
      "text/plain": "'select distinct category_id, category_name from categories where category_id = 1\\n'"
     },
     "execution_count": 44,
     "metadata": {},
     "output_type": "execute_result"
    }
   ],
   "source": [
    "category_query_template.format(category_id=1)"
   ],
   "metadata": {
    "collapsed": false,
    "ExecuteTime": {
     "end_time": "2024-04-27T13:38:03.915352Z",
     "start_time": "2024-04-27T13:38:03.912981Z"
    }
   },
   "id": "92059133ebf1bfcb",
   "execution_count": 44
  },
  {
   "cell_type": "code",
   "outputs": [
    {
     "name": "stdout",
     "output_type": "stream",
     "text": [
      "+-----------+-------------+\n",
      "|category_id|category_name|\n",
      "+-----------+-------------+\n",
      "|          1|     Football|\n",
      "+-----------+-------------+\n"
     ]
    }
   ],
   "source": [
    "spark.sql(category_query_template.format(category_id=1)).show(5)"
   ],
   "metadata": {
    "collapsed": false,
    "ExecuteTime": {
     "end_time": "2024-04-27T13:38:38.505874Z",
     "start_time": "2024-04-27T13:38:38.237227Z"
    }
   },
   "id": "fb7181dc4ab682d3",
   "execution_count": 45
  },
  {
   "cell_type": "code",
   "outputs": [],
   "source": [
    "def get_query_template(query_name: str) -> str:\n",
    "    with open(f\"../../src/sql/{query_name}.sql\", \"r\") as f:\n",
    "        return f.read()\n",
    "\n",
    "def get_query(query_name: str, **kwargs) -> str:\n",
    "    return get_query_template(query_name).format(**kwargs)"
   ],
   "metadata": {
    "collapsed": false,
    "ExecuteTime": {
     "end_time": "2024-04-27T13:41:59.963028Z",
     "start_time": "2024-04-27T13:41:59.957649Z"
    }
   },
   "id": "16c3b6dd0255e615",
   "execution_count": 47
  },
  {
   "cell_type": "code",
   "outputs": [
    {
     "name": "stdout",
     "output_type": "stream",
     "text": [
      "+-----------+-------------+\n",
      "|category_id|category_name|\n",
      "+-----------+-------------+\n",
      "|          1|     Football|\n",
      "+-----------+-------------+\n"
     ]
    }
   ],
   "source": [
    "spark.sql(get_query(\"select_category\", category_id=1)).show(5)"
   ],
   "metadata": {
    "collapsed": false,
    "ExecuteTime": {
     "end_time": "2024-04-27T13:42:13.164322Z",
     "start_time": "2024-04-27T13:42:12.950432Z"
    }
   },
   "id": "b154bb4b0c731d70",
   "execution_count": 48
  },
  {
   "cell_type": "code",
   "outputs": [
    {
     "name": "stdout",
     "output_type": "stream",
     "text": [
      "+--------+-------------+-----------------+---------------+\n",
      "|order_id|   order_date|order_customer_id|   order_status|\n",
      "+--------+-------------+-----------------+---------------+\n",
      "|       1|1374735600000|            11599|         CLOSED|\n",
      "|       2|1374735600000|              256|PENDING_PAYMENT|\n",
      "|       3|1374735600000|            12111|       COMPLETE|\n",
      "|       4|1374735600000|             8827|         CLOSED|\n",
      "|       5|1374735600000|            11318|       COMPLETE|\n",
      "+--------+-------------+-----------------+---------------+\n"
     ]
    }
   ],
   "source": [
    "orders.show(5)"
   ],
   "metadata": {
    "collapsed": false,
    "ExecuteTime": {
     "end_time": "2024-04-27T13:45:17.344167Z",
     "start_time": "2024-04-27T13:45:17.239983Z"
    }
   },
   "id": "c161c6d0aa931234",
   "execution_count": 50
  },
  {
   "cell_type": "code",
   "outputs": [
    {
     "name": "stdout",
     "output_type": "stream",
     "text": [
      "+---------------+\n",
      "|   order_status|\n",
      "+---------------+\n",
      "|PENDING_PAYMENT|\n",
      "|       COMPLETE|\n",
      "|        ON_HOLD|\n",
      "| PAYMENT_REVIEW|\n",
      "|     PROCESSING|\n",
      "|         CLOSED|\n",
      "|SUSPECTED_FRAUD|\n",
      "|        PENDING|\n",
      "|       CANCELED|\n",
      "+---------------+\n"
     ]
    }
   ],
   "source": [
    "orders.select(\"order_status\").distinct().show()"
   ],
   "metadata": {
    "collapsed": false,
    "ExecuteTime": {
     "end_time": "2024-04-27T13:45:56.027881Z",
     "start_time": "2024-04-27T13:45:55.781586Z"
    }
   },
   "id": "d74baa8221f27b2b",
   "execution_count": 52
  },
  {
   "cell_type": "code",
   "outputs": [
    {
     "name": "stdout",
     "output_type": "stream",
     "text": [
      "+---------------+\n",
      "|   order_status|\n",
      "+---------------+\n",
      "|PENDING_PAYMENT|\n",
      "|       COMPLETE|\n",
      "|        ON_HOLD|\n",
      "| PAYMENT_REVIEW|\n",
      "|     PROCESSING|\n",
      "|         CLOSED|\n",
      "|SUSPECTED_FRAUD|\n",
      "|        PENDING|\n",
      "|       CANCELED|\n",
      "+---------------+\n"
     ]
    }
   ],
   "source": [
    "spark.sql(\"select distinct order_status from orders\").show()"
   ],
   "metadata": {
    "collapsed": false,
    "ExecuteTime": {
     "end_time": "2024-04-27T13:46:26.932097Z",
     "start_time": "2024-04-27T13:46:26.800081Z"
    }
   },
   "id": "6a9e0d47ffd0f9dc",
   "execution_count": 53
  },
  {
   "cell_type": "code",
   "outputs": [
    {
     "data": {
      "text/plain": "DataFrame[order_status: string]"
     },
     "execution_count": 54,
     "metadata": {},
     "output_type": "execute_result"
    }
   ],
   "source": [
    "df = spark.sql(\"select distinct order_status from orders\")\n",
    "df"
   ],
   "metadata": {
    "collapsed": false,
    "ExecuteTime": {
     "end_time": "2024-04-27T13:47:13.115597Z",
     "start_time": "2024-04-27T13:47:13.099524Z"
    }
   },
   "id": "bc0d67fc8a46bc7b",
   "execution_count": 54
  },
  {
   "cell_type": "code",
   "outputs": [
    {
     "data": {
      "text/plain": "[Row(order_status='PENDING_PAYMENT'),\n Row(order_status='COMPLETE'),\n Row(order_status='ON_HOLD'),\n Row(order_status='PAYMENT_REVIEW'),\n Row(order_status='PROCESSING'),\n Row(order_status='CLOSED'),\n Row(order_status='SUSPECTED_FRAUD'),\n Row(order_status='PENDING'),\n Row(order_status='CANCELED')]"
     },
     "execution_count": 55,
     "metadata": {},
     "output_type": "execute_result"
    }
   ],
   "source": [
    "df.collect()"
   ],
   "metadata": {
    "collapsed": false,
    "ExecuteTime": {
     "end_time": "2024-04-27T13:47:17.542221Z",
     "start_time": "2024-04-27T13:47:17.372172Z"
    }
   },
   "id": "5781832498be0809",
   "execution_count": 55
  },
  {
   "cell_type": "code",
   "outputs": [
    {
     "data": {
      "text/plain": "Row(order_status='PENDING_PAYMENT')"
     },
     "execution_count": 56,
     "metadata": {},
     "output_type": "execute_result"
    }
   ],
   "source": [
    "df.collect()[0]"
   ],
   "metadata": {
    "collapsed": false,
    "ExecuteTime": {
     "end_time": "2024-04-27T13:48:04.356584Z",
     "start_time": "2024-04-27T13:48:04.309532Z"
    }
   },
   "id": "d4de1c47ddc4da05",
   "execution_count": 56
  },
  {
   "cell_type": "code",
   "outputs": [
    {
     "data": {
      "text/plain": "'PENDING_PAYMENT'"
     },
     "execution_count": 57,
     "metadata": {},
     "output_type": "execute_result"
    }
   ],
   "source": [
    "df.collect()[0].order_status"
   ],
   "metadata": {
    "collapsed": false,
    "ExecuteTime": {
     "end_time": "2024-04-27T13:48:07.037788Z",
     "start_time": "2024-04-27T13:48:07.006793Z"
    }
   },
   "id": "d23fe8f4868df810",
   "execution_count": 57
  },
  {
   "cell_type": "code",
   "outputs": [
    {
     "data": {
      "text/plain": "'PENDING_PAYMENT'"
     },
     "execution_count": 59,
     "metadata": {},
     "output_type": "execute_result"
    }
   ],
   "source": [
    "df.collect()[0][\"order_status\"]"
   ],
   "metadata": {
    "collapsed": false,
    "ExecuteTime": {
     "end_time": "2024-04-27T13:48:21.898156Z",
     "start_time": "2024-04-27T13:48:21.842610Z"
    }
   },
   "id": "fedce82edb50aba5",
   "execution_count": 59
  },
  {
   "cell_type": "code",
   "outputs": [
    {
     "data": {
      "text/plain": "'PENDING_PAYMENT'"
     },
     "execution_count": 60,
     "metadata": {},
     "output_type": "execute_result"
    }
   ],
   "source": [
    "df.collect()[0][0]"
   ],
   "metadata": {
    "collapsed": false,
    "ExecuteTime": {
     "end_time": "2024-04-27T13:48:53.710579Z",
     "start_time": "2024-04-27T13:48:53.671339Z"
    }
   },
   "id": "adb636b1955d5f53",
   "execution_count": 60
  },
  {
   "cell_type": "code",
   "outputs": [
    {
     "data": {
      "text/plain": "{'order_status': 'PENDING_PAYMENT'}"
     },
     "execution_count": 61,
     "metadata": {},
     "output_type": "execute_result"
    }
   ],
   "source": [
    "df.collect()[0].asDict()"
   ],
   "metadata": {
    "collapsed": false,
    "ExecuteTime": {
     "end_time": "2024-04-27T13:48:57.029470Z",
     "start_time": "2024-04-27T13:48:57.000922Z"
    }
   },
   "id": "b12e67dc159e0ac6",
   "execution_count": 61
  },
  {
   "cell_type": "code",
   "outputs": [
    {
     "name": "stdout",
     "output_type": "stream",
     "text": [
      "+---------------+\n",
      "|   order_status|\n",
      "+---------------+\n",
      "|       CANCELED|\n",
      "|         CLOSED|\n",
      "|       COMPLETE|\n",
      "|        ON_HOLD|\n",
      "| PAYMENT_REVIEW|\n",
      "|        PENDING|\n",
      "|PENDING_PAYMENT|\n",
      "|     PROCESSING|\n",
      "|SUSPECTED_FRAUD|\n",
      "+---------------+\n"
     ]
    }
   ],
   "source": [
    "df = spark.sql(\"select distinct order_status from orders order by order_status\")\n",
    "df.show()"
   ],
   "metadata": {
    "collapsed": false,
    "ExecuteTime": {
     "end_time": "2024-04-27T13:50:12.825832Z",
     "start_time": "2024-04-27T13:50:12.491309Z"
    }
   },
   "id": "c75b4096ec24ec6e",
   "execution_count": 63
  },
  {
   "cell_type": "code",
   "outputs": [
    {
     "name": "stdout",
     "output_type": "stream",
     "text": [
      "+---------------+\n",
      "|   order_status|\n",
      "+---------------+\n",
      "|       CANCELED|\n",
      "|         CLOSED|\n",
      "|       COMPLETE|\n",
      "|        ON_HOLD|\n",
      "| PAYMENT_REVIEW|\n",
      "|        PENDING|\n",
      "|PENDING_PAYMENT|\n",
      "|     PROCESSING|\n",
      "|SUSPECTED_FRAUD|\n",
      "+---------------+\n"
     ]
    }
   ],
   "source": [
    "orders.select(\"order_status\").distinct().orderBy(\"order_status\").show()"
   ],
   "metadata": {
    "collapsed": false,
    "ExecuteTime": {
     "end_time": "2024-04-27T13:50:32.600266Z",
     "start_time": "2024-04-27T13:50:32.484969Z"
    }
   },
   "id": "6db9d50c0f4ca22b",
   "execution_count": 64
  },
  {
   "cell_type": "code",
   "outputs": [],
   "source": [
    "query = \"\"\"\n",
    "select c.category_name, count(order_item_quantity) as count\n",
    "from order_items oi\n",
    "inner join products p on oi.order_item_product_id = p.product_id\n",
    "inner join categories c on c.category_id = p.product_category_id\n",
    "group by c.category_name\n",
    "order by count desc\n",
    "limit 10;\n",
    "\"\"\""
   ],
   "metadata": {
    "collapsed": false,
    "ExecuteTime": {
     "end_time": "2024-04-27T13:53:12.072912Z",
     "start_time": "2024-04-27T13:53:12.053509Z"
    }
   },
   "id": "d1f179abd12369a",
   "execution_count": 65
  },
  {
   "cell_type": "code",
   "outputs": [
    {
     "name": "stdout",
     "output_type": "stream",
     "text": [
      "+--------------------+------+\n",
      "|       category_name| count|\n",
      "+--------------------+------+\n",
      "|              Cleats|196408|\n",
      "|      Men's Footwear|177968|\n",
      "|     Women's Apparel|168280|\n",
      "|Indoor/Outdoor Games|154384|\n",
      "|             Fishing|138600|\n",
      "|        Water Sports|124320|\n",
      "|    Camping & Hiking|109832|\n",
      "|    Cardio Equipment| 99896|\n",
      "|       Shop By Sport| 87872|\n",
      "|         Electronics| 25248|\n",
      "+--------------------+------+\n"
     ]
    }
   ],
   "source": [
    "spark.sql(query).show()"
   ],
   "metadata": {
    "collapsed": false,
    "ExecuteTime": {
     "end_time": "2024-04-27T13:53:16.197519Z",
     "start_time": "2024-04-27T13:53:15.346367Z"
    }
   },
   "id": "948ae61a09b01755",
   "execution_count": 66
  },
  {
   "cell_type": "code",
   "outputs": [
    {
     "data": {
      "text/plain": "'select c.category_name, count(order_item_quantity) as count\\nfrom order_items oi\\ninner join products p on oi.order_item_product_id = p.product_id\\ninner join categories c on c.category_id = p.product_category_id\\ngroup by c.category_name\\norder by count desc\\nlimit 10;\\n'"
     },
     "execution_count": 69,
     "metadata": {},
     "output_type": "execute_result"
    }
   ],
   "source": [
    "query = get_query(\"top_categories\")\n",
    "query"
   ],
   "metadata": {
    "collapsed": false,
    "ExecuteTime": {
     "end_time": "2024-04-27T13:55:49.691300Z",
     "start_time": "2024-04-27T13:55:49.686031Z"
    }
   },
   "id": "e313cbcb207419b",
   "execution_count": 69
  },
  {
   "cell_type": "code",
   "outputs": [
    {
     "name": "stdout",
     "output_type": "stream",
     "text": [
      "+--------------------+------+\n",
      "|       category_name| count|\n",
      "+--------------------+------+\n",
      "|              Cleats|196408|\n",
      "|      Men's Footwear|177968|\n",
      "|     Women's Apparel|168280|\n",
      "|Indoor/Outdoor Games|154384|\n",
      "|             Fishing|138600|\n",
      "|        Water Sports|124320|\n",
      "|    Camping & Hiking|109832|\n",
      "|    Cardio Equipment| 99896|\n",
      "|       Shop By Sport| 87872|\n",
      "|         Electronics| 25248|\n",
      "+--------------------+------+\n"
     ]
    }
   ],
   "source": [
    "spark.sql(query).show()"
   ],
   "metadata": {
    "collapsed": false,
    "ExecuteTime": {
     "end_time": "2024-04-27T13:55:50.855717Z",
     "start_time": "2024-04-27T13:55:50.374517Z"
    }
   },
   "id": "44feff59c4741373",
   "execution_count": 70
  },
  {
   "cell_type": "code",
   "outputs": [],
   "source": [
    "query = \"\"\"\n",
    "select\n",
    "    oi.order_item_product_id,\n",
    "    sum(cast(oi.order_item_subtotal as float)) as revenue\n",
    "from order_items oi\n",
    "inner join orders o on oi.order_item_order_id = o.order_id\n",
    "where o.order_status <> 'CANCELED' and o.order_status <> 'SUSPECTED_FRAUD'\n",
    "group by order_item_product_id;\n",
    "\"\"\""
   ],
   "metadata": {
    "collapsed": false,
    "ExecuteTime": {
     "end_time": "2024-04-27T13:57:44.288906Z",
     "start_time": "2024-04-27T13:57:44.285289Z"
    }
   },
   "id": "2951d332df2530ba",
   "execution_count": 71
  },
  {
   "cell_type": "code",
   "outputs": [
    {
     "name": "stdout",
     "output_type": "stream",
     "text": [
      "+---------------------+------------------+\n",
      "|order_item_product_id|           revenue|\n",
      "+---------------------+------------------+\n",
      "|                  897| 78568.55933380127|\n",
      "|                  858| 44797.76123046875|\n",
      "|                  251|  74511.7201538086|\n",
      "|                  804| 71963.99922943115|\n",
      "|                   78| 72392.75991821289|\n",
      "|                  642|          106800.0|\n",
      "|                   44| 218843.5263671875|\n",
      "|                  743| 41477.56134033203|\n",
      "|                  860|     19199.6796875|\n",
      "|                  926|56220.839210510254|\n",
      "|                  822|149152.92210388184|\n",
      "|                  625| 47197.64129638672|\n",
      "|                   93|  79668.1192703247|\n",
      "|                  924| 53342.63919830322|\n",
      "|                  725|           31104.0|\n",
      "|                  671| 52077.52136230469|\n",
      "|                  305|           51740.0|\n",
      "|                  906| 87065.15906524658|\n",
      "|                  797|61525.799255371094|\n",
      "|                  777| 64951.87976074219|\n",
      "+---------------------+------------------+\n"
     ]
    }
   ],
   "source": [
    "spark.sql(query).show()"
   ],
   "metadata": {
    "collapsed": false,
    "ExecuteTime": {
     "end_time": "2024-04-27T13:57:47.019882Z",
     "start_time": "2024-04-27T13:57:45.972413Z"
    }
   },
   "id": "374b68648db57eff",
   "execution_count": 72
  },
  {
   "cell_type": "code",
   "outputs": [
    {
     "data": {
      "text/plain": "<pyspark.sql.session.SparkSession at 0x10bbbf5d0>",
      "text/html": "\n            <div>\n                <p><b>SparkSession - in-memory</b></p>\n                \n        <div>\n            <p><b>SparkContext</b></p>\n\n            <p><a href=\"http://192.168.0.94:4043\">Spark UI</a></p>\n\n            <dl>\n              <dt>Version</dt>\n                <dd><code>v3.5.0</code></dd>\n              <dt>Master</dt>\n                <dd><code>local[*]</code></dd>\n              <dt>AppName</dt>\n                <dd><code>nlp</code></dd>\n            </dl>\n        </div>\n        \n            </div>\n        "
     },
     "execution_count": 80,
     "metadata": {},
     "output_type": "execute_result"
    }
   ],
   "source": [
    "spark"
   ],
   "metadata": {
    "collapsed": false,
    "ExecuteTime": {
     "end_time": "2024-04-27T14:08:38.303678Z",
     "start_time": "2024-04-27T14:08:38.298143Z"
    }
   },
   "id": "21eaab65cd118192",
   "execution_count": 80
  },
  {
   "cell_type": "code",
   "outputs": [],
   "source": [
    "categories.write.mode(\"overwrite\").parquet(\"../../data/categories.parquet\")"
   ],
   "metadata": {
    "collapsed": false,
    "ExecuteTime": {
     "end_time": "2024-04-27T14:09:58.834726Z",
     "start_time": "2024-04-27T14:09:58.525327Z"
    }
   },
   "id": "4721c32c537e4631",
   "execution_count": 86
  },
  {
   "cell_type": "code",
   "outputs": [],
   "source": [
    "customers.write.mode(\"overwrite\").csv(\"../../data/customers.csv\")"
   ],
   "metadata": {
    "collapsed": false,
    "ExecuteTime": {
     "end_time": "2024-04-27T14:09:30.852157Z",
     "start_time": "2024-04-27T14:09:30.615866Z"
    }
   },
   "id": "b8edfdc6be105da",
   "execution_count": 85
  },
  {
   "cell_type": "code",
   "outputs": [],
   "source": [],
   "metadata": {
    "collapsed": false
   },
   "id": "ecc710ac30c1fc5"
  }
 ],
 "metadata": {
  "kernelspec": {
   "display_name": "Python 3",
   "language": "python",
   "name": "python3"
  },
  "language_info": {
   "codemirror_mode": {
    "name": "ipython",
    "version": 2
   },
   "file_extension": ".py",
   "mimetype": "text/x-python",
   "name": "python",
   "nbconvert_exporter": "python",
   "pygments_lexer": "ipython2",
   "version": "2.7.6"
  }
 },
 "nbformat": 4,
 "nbformat_minor": 5
}
