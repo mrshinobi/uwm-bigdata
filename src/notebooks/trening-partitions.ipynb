{
 "cells": [
  {
   "cell_type": "markdown",
   "source": [
    "# Partycjonowanie danych w Sparku\n",
    "\n",
    "Partycjonowanie danych jest kluczową techniką zarządzania i optymalizacji przetwarzania dużych zbiorów danych, szczególnie w środowiskach Big Data, takich jak Apache Spark. \n",
    "Polega ono na podziale dużego zbioru danych na mniejsze, zarządzalne części, zwane partycjami. \n",
    "Każda partycja może być przetwarzana niezależnie od innych, co umożliwia równoległe i rozproszone przetwarzanie na wielu węzłach klastra.\n",
    "\n",
    "## Cele partycjonowania:\n",
    "1. Zwiększenie wydajności: Przetwarzając dane w mniejszych blokach równolegle, możemy znacząco przyspieszyć czas przetwarzania zadań.\n",
    "2. Optymalizacja zapytań: Partycjonowanie pozwala na fizyczne grupowanie danych w sposób, który jest zgodny z najczęściej wykonywanymi zapytaniami. Na przykład, partycjonowanie danych według daty pozwala na szybkie wykonywanie zapytań dotyczących określonych okresów czasu, bez konieczności przeszukiwania całego zbioru danych.\n",
    "3. Efektywność zarządzania danymi: Partycjonowanie ułatwia zarządzanie danymi, umożliwiając na przykład łatwiejsze archiwizowanie starych danych czy usunięcie niepotrzebnych partycji bez wpływu na resztę zbioru danych.\n",
    "\n",
    "## Typy partycjonowania:\n",
    "1. Partycjonowanie poziome (Partitioning): Dane są dzielone w oparciu o wartość jednego lub więcej kolumn. Na przykład, dane mogą być partycjonowane po kolumnie daty lub regionu. \n",
    "   W Apache Spark każda partycja jest przypisana do różnych węzłów w klastrze, co umożliwia równoległe przetwarzanie.\n",
    "2. Partycjonowanie pionowe (Sharding): Polega na podziale kolumn tabeli na różne serwery. Każdy serwer przechowuje tylko określoną grupę kolumn, co może być przydatne w bazach danych, gdzie różne kolumny są często używane przez różne zapytania.\n",
    "\n"
   ],
   "metadata": {
    "collapsed": false
   },
   "id": "2a96d1b073d3dc2f"
  },
  {
   "cell_type": "code",
   "execution_count": 44,
   "id": "initial_id",
   "metadata": {
    "collapsed": true,
    "ExecuteTime": {
     "end_time": "2024-04-28T10:52:11.144338Z",
     "start_time": "2024-04-28T10:52:11.141802Z"
    }
   },
   "outputs": [],
   "source": [
    "from pyspark.sql import SparkSession"
   ]
  },
  {
   "cell_type": "code",
   "outputs": [
    {
     "ename": "ConnectionRefusedError",
     "evalue": "[Errno 61] Connection refused",
     "output_type": "error",
     "traceback": [
      "\u001B[0;31m---------------------------------------------------------------------------\u001B[0m",
      "\u001B[0;31mConnectionRefusedError\u001B[0m                    Traceback (most recent call last)",
      "Cell \u001B[0;32mIn[45], line 2\u001B[0m\n\u001B[1;32m      1\u001B[0m \u001B[38;5;66;03m# obiekt sesji zwykle ma nazwę \"spark\"\u001B[39;00m\n\u001B[0;32m----> 2\u001B[0m spark \u001B[38;5;241m=\u001B[39m \u001B[43mSparkSession\u001B[49m\u001B[38;5;241;43m.\u001B[39;49m\u001B[43mbuilder\u001B[49m\u001B[38;5;241;43m.\u001B[39;49m\u001B[43mappName\u001B[49m\u001B[43m(\u001B[49m\u001B[38;5;124;43m\"\u001B[39;49m\u001B[38;5;124;43mSparkPartitioning\u001B[39;49m\u001B[38;5;124;43m\"\u001B[39;49m\u001B[43m)\u001B[49m\u001B[38;5;241;43m.\u001B[39;49m\u001B[43mgetOrCreate\u001B[49m\u001B[43m(\u001B[49m\u001B[43m)\u001B[49m \n\u001B[1;32m      3\u001B[0m spark\n",
      "File \u001B[0;32m~/projects/uwm/uwm-bigdata/venv2/lib/python3.11/site-packages/pyspark/sql/session.py:503\u001B[0m, in \u001B[0;36mSparkSession.Builder.getOrCreate\u001B[0;34m(self)\u001B[0m\n\u001B[1;32m    500\u001B[0m     session \u001B[38;5;241m=\u001B[39m SparkSession(sc, options\u001B[38;5;241m=\u001B[39m\u001B[38;5;28mself\u001B[39m\u001B[38;5;241m.\u001B[39m_options)\n\u001B[1;32m    501\u001B[0m \u001B[38;5;28;01melse\u001B[39;00m:\n\u001B[1;32m    502\u001B[0m     \u001B[38;5;28mgetattr\u001B[39m(\n\u001B[0;32m--> 503\u001B[0m         \u001B[38;5;28;43mgetattr\u001B[39;49m\u001B[43m(\u001B[49m\u001B[43msession\u001B[49m\u001B[38;5;241;43m.\u001B[39;49m\u001B[43m_jvm\u001B[49m\u001B[43m,\u001B[49m\u001B[43m \u001B[49m\u001B[38;5;124;43m\"\u001B[39;49m\u001B[38;5;124;43mSparkSession$\u001B[39;49m\u001B[38;5;124;43m\"\u001B[39;49m\u001B[43m)\u001B[49m, \u001B[38;5;124m\"\u001B[39m\u001B[38;5;124mMODULE$\u001B[39m\u001B[38;5;124m\"\u001B[39m\n\u001B[1;32m    504\u001B[0m     )\u001B[38;5;241m.\u001B[39mapplyModifiableSettings(session\u001B[38;5;241m.\u001B[39m_jsparkSession, \u001B[38;5;28mself\u001B[39m\u001B[38;5;241m.\u001B[39m_options)\n\u001B[1;32m    505\u001B[0m \u001B[38;5;28;01mreturn\u001B[39;00m session\n",
      "File \u001B[0;32m~/projects/uwm/uwm-bigdata/venv2/lib/python3.11/site-packages/py4j/java_gateway.py:1712\u001B[0m, in \u001B[0;36mJVMView.__getattr__\u001B[0;34m(self, name)\u001B[0m\n\u001B[1;32m   1709\u001B[0m \u001B[38;5;28;01mif\u001B[39;00m name \u001B[38;5;241m==\u001B[39m UserHelpAutoCompletion\u001B[38;5;241m.\u001B[39mKEY:\n\u001B[1;32m   1710\u001B[0m     \u001B[38;5;28;01mreturn\u001B[39;00m UserHelpAutoCompletion()\n\u001B[0;32m-> 1712\u001B[0m answer \u001B[38;5;241m=\u001B[39m \u001B[38;5;28;43mself\u001B[39;49m\u001B[38;5;241;43m.\u001B[39;49m\u001B[43m_gateway_client\u001B[49m\u001B[38;5;241;43m.\u001B[39;49m\u001B[43msend_command\u001B[49m\u001B[43m(\u001B[49m\n\u001B[1;32m   1713\u001B[0m \u001B[43m    \u001B[49m\u001B[43mproto\u001B[49m\u001B[38;5;241;43m.\u001B[39;49m\u001B[43mREFLECTION_COMMAND_NAME\u001B[49m\u001B[43m \u001B[49m\u001B[38;5;241;43m+\u001B[39;49m\n\u001B[1;32m   1714\u001B[0m \u001B[43m    \u001B[49m\u001B[43mproto\u001B[49m\u001B[38;5;241;43m.\u001B[39;49m\u001B[43mREFL_GET_UNKNOWN_SUB_COMMAND_NAME\u001B[49m\u001B[43m \u001B[49m\u001B[38;5;241;43m+\u001B[39;49m\u001B[43m \u001B[49m\u001B[43mname\u001B[49m\u001B[43m \u001B[49m\u001B[38;5;241;43m+\u001B[39;49m\u001B[43m \u001B[49m\u001B[38;5;124;43m\"\u001B[39;49m\u001B[38;5;130;43;01m\\n\u001B[39;49;00m\u001B[38;5;124;43m\"\u001B[39;49m\u001B[43m \u001B[49m\u001B[38;5;241;43m+\u001B[39;49m\u001B[43m \u001B[49m\u001B[38;5;28;43mself\u001B[39;49m\u001B[38;5;241;43m.\u001B[39;49m\u001B[43m_id\u001B[49m\u001B[43m \u001B[49m\u001B[38;5;241;43m+\u001B[39;49m\n\u001B[1;32m   1715\u001B[0m \u001B[43m    \u001B[49m\u001B[38;5;124;43m\"\u001B[39;49m\u001B[38;5;130;43;01m\\n\u001B[39;49;00m\u001B[38;5;124;43m\"\u001B[39;49m\u001B[43m \u001B[49m\u001B[38;5;241;43m+\u001B[39;49m\u001B[43m \u001B[49m\u001B[43mproto\u001B[49m\u001B[38;5;241;43m.\u001B[39;49m\u001B[43mEND_COMMAND_PART\u001B[49m\u001B[43m)\u001B[49m\n\u001B[1;32m   1716\u001B[0m \u001B[38;5;28;01mif\u001B[39;00m answer \u001B[38;5;241m==\u001B[39m proto\u001B[38;5;241m.\u001B[39mSUCCESS_PACKAGE:\n\u001B[1;32m   1717\u001B[0m     \u001B[38;5;28;01mreturn\u001B[39;00m JavaPackage(name, \u001B[38;5;28mself\u001B[39m\u001B[38;5;241m.\u001B[39m_gateway_client, jvm_id\u001B[38;5;241m=\u001B[39m\u001B[38;5;28mself\u001B[39m\u001B[38;5;241m.\u001B[39m_id)\n",
      "File \u001B[0;32m~/projects/uwm/uwm-bigdata/venv2/lib/python3.11/site-packages/py4j/java_gateway.py:1036\u001B[0m, in \u001B[0;36mGatewayClient.send_command\u001B[0;34m(self, command, retry, binary)\u001B[0m\n\u001B[1;32m   1015\u001B[0m \u001B[38;5;28;01mdef\u001B[39;00m \u001B[38;5;21msend_command\u001B[39m(\u001B[38;5;28mself\u001B[39m, command, retry\u001B[38;5;241m=\u001B[39m\u001B[38;5;28;01mTrue\u001B[39;00m, binary\u001B[38;5;241m=\u001B[39m\u001B[38;5;28;01mFalse\u001B[39;00m):\n\u001B[1;32m   1016\u001B[0m \u001B[38;5;250m    \u001B[39m\u001B[38;5;124;03m\"\"\"Sends a command to the JVM. This method is not intended to be\u001B[39;00m\n\u001B[1;32m   1017\u001B[0m \u001B[38;5;124;03m       called directly by Py4J users. It is usually called by\u001B[39;00m\n\u001B[1;32m   1018\u001B[0m \u001B[38;5;124;03m       :class:`JavaMember` instances.\u001B[39;00m\n\u001B[0;32m   (...)\u001B[0m\n\u001B[1;32m   1034\u001B[0m \u001B[38;5;124;03m     if `binary` is `True`.\u001B[39;00m\n\u001B[1;32m   1035\u001B[0m \u001B[38;5;124;03m    \"\"\"\u001B[39;00m\n\u001B[0;32m-> 1036\u001B[0m     connection \u001B[38;5;241m=\u001B[39m \u001B[38;5;28;43mself\u001B[39;49m\u001B[38;5;241;43m.\u001B[39;49m\u001B[43m_get_connection\u001B[49m\u001B[43m(\u001B[49m\u001B[43m)\u001B[49m\n\u001B[1;32m   1037\u001B[0m     \u001B[38;5;28;01mtry\u001B[39;00m:\n\u001B[1;32m   1038\u001B[0m         response \u001B[38;5;241m=\u001B[39m connection\u001B[38;5;241m.\u001B[39msend_command(command)\n",
      "File \u001B[0;32m~/projects/uwm/uwm-bigdata/venv2/lib/python3.11/site-packages/py4j/clientserver.py:284\u001B[0m, in \u001B[0;36mJavaClient._get_connection\u001B[0;34m(self)\u001B[0m\n\u001B[1;32m    281\u001B[0m     \u001B[38;5;28;01mpass\u001B[39;00m\n\u001B[1;32m    283\u001B[0m \u001B[38;5;28;01mif\u001B[39;00m connection \u001B[38;5;129;01mis\u001B[39;00m \u001B[38;5;28;01mNone\u001B[39;00m \u001B[38;5;129;01mor\u001B[39;00m connection\u001B[38;5;241m.\u001B[39msocket \u001B[38;5;129;01mis\u001B[39;00m \u001B[38;5;28;01mNone\u001B[39;00m:\n\u001B[0;32m--> 284\u001B[0m     connection \u001B[38;5;241m=\u001B[39m \u001B[38;5;28;43mself\u001B[39;49m\u001B[38;5;241;43m.\u001B[39;49m\u001B[43m_create_new_connection\u001B[49m\u001B[43m(\u001B[49m\u001B[43m)\u001B[49m\n\u001B[1;32m    285\u001B[0m \u001B[38;5;28;01mreturn\u001B[39;00m connection\n",
      "File \u001B[0;32m~/projects/uwm/uwm-bigdata/venv2/lib/python3.11/site-packages/py4j/clientserver.py:291\u001B[0m, in \u001B[0;36mJavaClient._create_new_connection\u001B[0;34m(self)\u001B[0m\n\u001B[1;32m    287\u001B[0m \u001B[38;5;28;01mdef\u001B[39;00m \u001B[38;5;21m_create_new_connection\u001B[39m(\u001B[38;5;28mself\u001B[39m):\n\u001B[1;32m    288\u001B[0m     connection \u001B[38;5;241m=\u001B[39m ClientServerConnection(\n\u001B[1;32m    289\u001B[0m         \u001B[38;5;28mself\u001B[39m\u001B[38;5;241m.\u001B[39mjava_parameters, \u001B[38;5;28mself\u001B[39m\u001B[38;5;241m.\u001B[39mpython_parameters,\n\u001B[1;32m    290\u001B[0m         \u001B[38;5;28mself\u001B[39m\u001B[38;5;241m.\u001B[39mgateway_property, \u001B[38;5;28mself\u001B[39m)\n\u001B[0;32m--> 291\u001B[0m     \u001B[43mconnection\u001B[49m\u001B[38;5;241;43m.\u001B[39;49m\u001B[43mconnect_to_java_server\u001B[49m\u001B[43m(\u001B[49m\u001B[43m)\u001B[49m\n\u001B[1;32m    292\u001B[0m     \u001B[38;5;28mself\u001B[39m\u001B[38;5;241m.\u001B[39mset_thread_connection(connection)\n\u001B[1;32m    293\u001B[0m     \u001B[38;5;28;01mreturn\u001B[39;00m connection\n",
      "File \u001B[0;32m~/projects/uwm/uwm-bigdata/venv2/lib/python3.11/site-packages/py4j/clientserver.py:438\u001B[0m, in \u001B[0;36mClientServerConnection.connect_to_java_server\u001B[0;34m(self)\u001B[0m\n\u001B[1;32m    435\u001B[0m \u001B[38;5;28;01mif\u001B[39;00m \u001B[38;5;28mself\u001B[39m\u001B[38;5;241m.\u001B[39mssl_context:\n\u001B[1;32m    436\u001B[0m     \u001B[38;5;28mself\u001B[39m\u001B[38;5;241m.\u001B[39msocket \u001B[38;5;241m=\u001B[39m \u001B[38;5;28mself\u001B[39m\u001B[38;5;241m.\u001B[39mssl_context\u001B[38;5;241m.\u001B[39mwrap_socket(\n\u001B[1;32m    437\u001B[0m         \u001B[38;5;28mself\u001B[39m\u001B[38;5;241m.\u001B[39msocket, server_hostname\u001B[38;5;241m=\u001B[39m\u001B[38;5;28mself\u001B[39m\u001B[38;5;241m.\u001B[39mjava_address)\n\u001B[0;32m--> 438\u001B[0m \u001B[38;5;28;43mself\u001B[39;49m\u001B[38;5;241;43m.\u001B[39;49m\u001B[43msocket\u001B[49m\u001B[38;5;241;43m.\u001B[39;49m\u001B[43mconnect\u001B[49m\u001B[43m(\u001B[49m\u001B[43m(\u001B[49m\u001B[38;5;28;43mself\u001B[39;49m\u001B[38;5;241;43m.\u001B[39;49m\u001B[43mjava_address\u001B[49m\u001B[43m,\u001B[49m\u001B[43m \u001B[49m\u001B[38;5;28;43mself\u001B[39;49m\u001B[38;5;241;43m.\u001B[39;49m\u001B[43mjava_port\u001B[49m\u001B[43m)\u001B[49m\u001B[43m)\u001B[49m\n\u001B[1;32m    439\u001B[0m \u001B[38;5;28mself\u001B[39m\u001B[38;5;241m.\u001B[39mstream \u001B[38;5;241m=\u001B[39m \u001B[38;5;28mself\u001B[39m\u001B[38;5;241m.\u001B[39msocket\u001B[38;5;241m.\u001B[39mmakefile(\u001B[38;5;124m\"\u001B[39m\u001B[38;5;124mrb\u001B[39m\u001B[38;5;124m\"\u001B[39m)\n\u001B[1;32m    440\u001B[0m \u001B[38;5;28mself\u001B[39m\u001B[38;5;241m.\u001B[39mis_connected \u001B[38;5;241m=\u001B[39m \u001B[38;5;28;01mTrue\u001B[39;00m\n",
      "\u001B[0;31mConnectionRefusedError\u001B[0m: [Errno 61] Connection refused"
     ]
    }
   ],
   "source": [
    "# obiekt sesji zwykle ma nazwę \"spark\"\n",
    "spark = SparkSession.builder.appName(\"SparkPartitioning\").getOrCreate() \n",
    "spark"
   ],
   "metadata": {
    "collapsed": false,
    "ExecuteTime": {
     "end_time": "2024-04-28T10:52:11.662313Z",
     "start_time": "2024-04-28T10:52:11.634472Z"
    }
   },
   "id": "874ae983d58ae2a2",
   "execution_count": 45
  },
  {
   "cell_type": "code",
   "outputs": [
    {
     "data": {
      "text/plain": "DataFrame[order_id: int, order_date: bigint, order_customer_id: int, order_status: string]"
     },
     "execution_count": 28,
     "metadata": {},
     "output_type": "execute_result"
    }
   ],
   "source": [
    "orders = spark.read.parquet(\"../../data/sklep/orders\")\n",
    "orders"
   ],
   "metadata": {
    "collapsed": false,
    "ExecuteTime": {
     "end_time": "2024-04-28T10:10:04.390828Z",
     "start_time": "2024-04-28T10:10:04.296210Z"
    }
   },
   "id": "86121c0769e7b3",
   "execution_count": 28
  },
  {
   "cell_type": "code",
   "outputs": [
    {
     "name": "stdout",
     "output_type": "stream",
     "text": [
      "+--------+-------------+-----------------+---------------+\n",
      "|order_id|   order_date|order_customer_id|   order_status|\n",
      "+--------+-------------+-----------------+---------------+\n",
      "|       1|1374735600000|            11599|         CLOSED|\n",
      "|       2|1374735600000|              256|PENDING_PAYMENT|\n",
      "|       3|1374735600000|            12111|       COMPLETE|\n",
      "|       4|1374735600000|             8827|         CLOSED|\n",
      "|       5|1374735600000|            11318|       COMPLETE|\n",
      "+--------+-------------+-----------------+---------------+\n"
     ]
    }
   ],
   "source": [
    "orders.show(5)"
   ],
   "metadata": {
    "collapsed": false,
    "ExecuteTime": {
     "end_time": "2024-04-28T10:10:05.587762Z",
     "start_time": "2024-04-28T10:10:05.524741Z"
    }
   },
   "id": "9e172b3b41c922a7",
   "execution_count": 29
  },
  {
   "cell_type": "code",
   "outputs": [
    {
     "name": "stdout",
     "output_type": "stream",
     "text": [
      "+--------+-------------+\n",
      "|order_id|   order_date|\n",
      "+--------+-------------+\n",
      "|       1|1374735600000|\n",
      "|       2|1374735600000|\n",
      "|       3|1374735600000|\n",
      "|       4|1374735600000|\n",
      "|       5|1374735600000|\n",
      "+--------+-------------+\n"
     ]
    }
   ],
   "source": [
    "df = orders.select(\"order_id\", \"order_date\")\n",
    "df.show(5)"
   ],
   "metadata": {
    "collapsed": false,
    "ExecuteTime": {
     "end_time": "2024-04-28T10:10:06.170906Z",
     "start_time": "2024-04-28T10:10:06.110927Z"
    }
   },
   "id": "fb9dac91cfc1872",
   "execution_count": 30
  },
  {
   "cell_type": "code",
   "outputs": [],
   "source": [
    "import pyspark.sql.functions as F"
   ],
   "metadata": {
    "collapsed": false,
    "ExecuteTime": {
     "end_time": "2024-04-28T10:10:07.096559Z",
     "start_time": "2024-04-28T10:10:07.093844Z"
    }
   },
   "id": "df472ec29dc0f247",
   "execution_count": 31
  },
  {
   "cell_type": "code",
   "outputs": [
    {
     "name": "stdout",
     "output_type": "stream",
     "text": [
      "+--------+-------------+-------------------+\n",
      "|order_id|   order_date|          timestamp|\n",
      "+--------+-------------+-------------------+\n",
      "|       1|1374735600000|2013-07-25 09:00:00|\n",
      "|       2|1374735600000|2013-07-25 09:00:00|\n",
      "|       3|1374735600000|2013-07-25 09:00:00|\n",
      "|       4|1374735600000|2013-07-25 09:00:00|\n",
      "|       5|1374735600000|2013-07-25 09:00:00|\n",
      "|       6|1374735600000|2013-07-25 09:00:00|\n",
      "|       7|1374735600000|2013-07-25 09:00:00|\n",
      "|       8|1374735600000|2013-07-25 09:00:00|\n",
      "|       9|1374735600000|2013-07-25 09:00:00|\n",
      "|      10|1374735600000|2013-07-25 09:00:00|\n",
      "|      11|1374735600000|2013-07-25 09:00:00|\n",
      "|      12|1374735600000|2013-07-25 09:00:00|\n",
      "|      13|1374735600000|2013-07-25 09:00:00|\n",
      "|      14|1374735600000|2013-07-25 09:00:00|\n",
      "|      15|1374735600000|2013-07-25 09:00:00|\n",
      "|      16|1374735600000|2013-07-25 09:00:00|\n",
      "|      17|1374735600000|2013-07-25 09:00:00|\n",
      "|      18|1374735600000|2013-07-25 09:00:00|\n",
      "|      19|1374735600000|2013-07-25 09:00:00|\n",
      "|      20|1374735600000|2013-07-25 09:00:00|\n",
      "+--------+-------------+-------------------+\n"
     ]
    }
   ],
   "source": [
    "df = df.withColumn(\"timestamp\", F.from_unixtime(F.col(\"order_date\") / 1000))\n",
    "df.show()"
   ],
   "metadata": {
    "collapsed": false,
    "ExecuteTime": {
     "end_time": "2024-04-28T10:10:07.726838Z",
     "start_time": "2024-04-28T10:10:07.646671Z"
    }
   },
   "id": "eb547e9be1ed6b98",
   "execution_count": 32
  },
  {
   "cell_type": "code",
   "outputs": [
    {
     "name": "stdout",
     "output_type": "stream",
     "text": [
      "+--------+-------------+-------------------+-----------+\n",
      "|order_id|   order_date|          timestamp|date_string|\n",
      "+--------+-------------+-------------------+-----------+\n",
      "|       1|1374735600000|2013-07-25 09:00:00| 2013-07-25|\n",
      "|       2|1374735600000|2013-07-25 09:00:00| 2013-07-25|\n",
      "|       3|1374735600000|2013-07-25 09:00:00| 2013-07-25|\n",
      "|       4|1374735600000|2013-07-25 09:00:00| 2013-07-25|\n",
      "|       5|1374735600000|2013-07-25 09:00:00| 2013-07-25|\n",
      "|       6|1374735600000|2013-07-25 09:00:00| 2013-07-25|\n",
      "|       7|1374735600000|2013-07-25 09:00:00| 2013-07-25|\n",
      "|       8|1374735600000|2013-07-25 09:00:00| 2013-07-25|\n",
      "|       9|1374735600000|2013-07-25 09:00:00| 2013-07-25|\n",
      "|      10|1374735600000|2013-07-25 09:00:00| 2013-07-25|\n",
      "|      11|1374735600000|2013-07-25 09:00:00| 2013-07-25|\n",
      "|      12|1374735600000|2013-07-25 09:00:00| 2013-07-25|\n",
      "|      13|1374735600000|2013-07-25 09:00:00| 2013-07-25|\n",
      "|      14|1374735600000|2013-07-25 09:00:00| 2013-07-25|\n",
      "|      15|1374735600000|2013-07-25 09:00:00| 2013-07-25|\n",
      "|      16|1374735600000|2013-07-25 09:00:00| 2013-07-25|\n",
      "|      17|1374735600000|2013-07-25 09:00:00| 2013-07-25|\n",
      "|      18|1374735600000|2013-07-25 09:00:00| 2013-07-25|\n",
      "|      19|1374735600000|2013-07-25 09:00:00| 2013-07-25|\n",
      "|      20|1374735600000|2013-07-25 09:00:00| 2013-07-25|\n",
      "+--------+-------------+-------------------+-----------+\n"
     ]
    }
   ],
   "source": [
    "df = df.withColumn(\"date_string\", F.date_format(\"timestamp\", \"yyyy-MM-dd\"))\n",
    "df.show()"
   ],
   "metadata": {
    "collapsed": false,
    "ExecuteTime": {
     "end_time": "2024-04-28T10:10:08.539486Z",
     "start_time": "2024-04-28T10:10:08.474892Z"
    }
   },
   "id": "dbe6fca95d2e50df",
   "execution_count": 33
  },
  {
   "cell_type": "code",
   "outputs": [
    {
     "name": "stdout",
     "output_type": "stream",
     "text": [
      "root\n",
      " |-- order_id: integer (nullable = true)\n",
      " |-- order_date: long (nullable = true)\n",
      " |-- timestamp: string (nullable = true)\n",
      " |-- date_string: string (nullable = true)\n"
     ]
    }
   ],
   "source": [
    "df.printSchema()"
   ],
   "metadata": {
    "collapsed": false,
    "ExecuteTime": {
     "end_time": "2024-04-28T10:10:09.167002Z",
     "start_time": "2024-04-28T10:10:09.164274Z"
    }
   },
   "id": "dace387d0f78a3c3",
   "execution_count": 34
  },
  {
   "cell_type": "code",
   "outputs": [
    {
     "name": "stderr",
     "output_type": "stream",
     "text": [
      "                                                                                \r"
     ]
    }
   ],
   "source": [
    "df.write.partitionBy(\"date_string\").mode(\"overwrite\").parquet(\"orders_partitioned\")"
   ],
   "metadata": {
    "collapsed": false,
    "ExecuteTime": {
     "end_time": "2024-04-28T10:10:13.995303Z",
     "start_time": "2024-04-28T10:10:10.087116Z"
    }
   },
   "id": "c79a5136610d05cd",
   "execution_count": 35
  },
  {
   "cell_type": "markdown",
   "source": [
    "### Partycjonowanie po parze year-month"
   ],
   "metadata": {
    "collapsed": false
   },
   "id": "12eed42ed884254f"
  },
  {
   "cell_type": "code",
   "outputs": [
    {
     "name": "stdout",
     "output_type": "stream",
     "text": [
      "+--------+-------------+-------------------+-----------+----------+\n",
      "|order_id|   order_date|          timestamp|date_string|year_month|\n",
      "+--------+-------------+-------------------+-----------+----------+\n",
      "|       1|1374735600000|2013-07-25 09:00:00| 2013-07-25|   2013-07|\n",
      "|       2|1374735600000|2013-07-25 09:00:00| 2013-07-25|   2013-07|\n",
      "|       3|1374735600000|2013-07-25 09:00:00| 2013-07-25|   2013-07|\n",
      "|       4|1374735600000|2013-07-25 09:00:00| 2013-07-25|   2013-07|\n",
      "|       5|1374735600000|2013-07-25 09:00:00| 2013-07-25|   2013-07|\n",
      "+--------+-------------+-------------------+-----------+----------+\n"
     ]
    }
   ],
   "source": [
    "df = df.withColumn(\"year_month\", F.concat(F.year(\"timestamp\"), F.lit(\"-\"), F.format_string(\"%02d\", F.month(\"timestamp\"))))\n",
    "df.show(5)"
   ],
   "metadata": {
    "collapsed": false,
    "ExecuteTime": {
     "end_time": "2024-04-28T10:10:14.074817Z",
     "start_time": "2024-04-28T10:10:13.996152Z"
    }
   },
   "id": "1ccf62efc7ee109d",
   "execution_count": 36
  },
  {
   "cell_type": "code",
   "outputs": [],
   "source": [
    "df.write.partitionBy(\"year_month\").mode(\"overwrite\").parquet(\"orders_partitioned_ym\")"
   ],
   "metadata": {
    "collapsed": false
   },
   "id": "29382dfa298c2ee1"
  },
  {
   "cell_type": "markdown",
   "source": [
    "### Partycjonowanie po dwóch kolumnach"
   ],
   "metadata": {
    "collapsed": false
   },
   "id": "d6800bc6e07bac60"
  },
  {
   "cell_type": "code",
   "outputs": [],
   "source": [
    "df = df.withColumn(\"year\", F.year(\"timestamp\"))\n",
    "df = df.withColumn(\"month\", F.month(\"timestamp\"))"
   ],
   "metadata": {
    "collapsed": false,
    "ExecuteTime": {
     "end_time": "2024-04-28T10:10:14.854147Z",
     "start_time": "2024-04-28T10:10:14.836893Z"
    }
   },
   "id": "fdc50680f593d7a1",
   "execution_count": 37
  },
  {
   "cell_type": "code",
   "outputs": [
    {
     "name": "stdout",
     "output_type": "stream",
     "text": [
      "+--------+-------------+-------------------+-----------+----------+----+-----+\n",
      "|order_id|   order_date|          timestamp|date_string|year_month|year|month|\n",
      "+--------+-------------+-------------------+-----------+----------+----+-----+\n",
      "|       1|1374735600000|2013-07-25 09:00:00| 2013-07-25|   2013-07|2013|    7|\n",
      "|       2|1374735600000|2013-07-25 09:00:00| 2013-07-25|   2013-07|2013|    7|\n",
      "|       3|1374735600000|2013-07-25 09:00:00| 2013-07-25|   2013-07|2013|    7|\n",
      "|       4|1374735600000|2013-07-25 09:00:00| 2013-07-25|   2013-07|2013|    7|\n",
      "|       5|1374735600000|2013-07-25 09:00:00| 2013-07-25|   2013-07|2013|    7|\n",
      "+--------+-------------+-------------------+-----------+----------+----+-----+\n"
     ]
    }
   ],
   "source": [
    "df.show(5)"
   ],
   "metadata": {
    "collapsed": false,
    "ExecuteTime": {
     "end_time": "2024-04-28T10:10:16.207911Z",
     "start_time": "2024-04-28T10:10:16.141244Z"
    }
   },
   "id": "b7da047968a3a3da",
   "execution_count": 38
  },
  {
   "cell_type": "code",
   "outputs": [],
   "source": [
    "df.write.partitionBy(\"year\", \"month\").mode(\"overwrite\").parquet(\"orders_partitioned_ym2\")"
   ],
   "metadata": {
    "collapsed": false,
    "ExecuteTime": {
     "end_time": "2024-04-28T10:10:17.733822Z",
     "start_time": "2024-04-28T10:10:17.113555Z"
    }
   },
   "id": "ac5ca5e370568195",
   "execution_count": 39
  },
  {
   "cell_type": "code",
   "outputs": [],
   "source": [],
   "metadata": {
    "collapsed": false
   },
   "id": "345b7c1e98074c7d"
  }
 ],
 "metadata": {
  "kernelspec": {
   "display_name": "Python 3",
   "language": "python",
   "name": "python3"
  },
  "language_info": {
   "codemirror_mode": {
    "name": "ipython",
    "version": 2
   },
   "file_extension": ".py",
   "mimetype": "text/x-python",
   "name": "python",
   "nbconvert_exporter": "python",
   "pygments_lexer": "ipython2",
   "version": "2.7.6"
  }
 },
 "nbformat": 4,
 "nbformat_minor": 5
}
